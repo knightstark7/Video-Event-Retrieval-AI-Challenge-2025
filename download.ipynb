{
 "cells": [
  {
   "cell_type": "code",
   "execution_count": null,
   "id": "43bb0470",
   "metadata": {},
   "outputs": [],
   "source": [
    "import numpy as np\n",
    "import pandas as pd\n",
    "import yt_dlp # pip install \"yt-dlp[default,curl-cffi]\"\n",
    "from tqdm import tqdm\n",
    "import os\n",
    "import glob\n",
    "import json\n",
    "from config import MEDIA_DIR, DOWNLOAD_DIR"
   ]
  },
  {
   "cell_type": "code",
   "execution_count": null,
   "id": "a1e5679b",
   "metadata": {},
   "outputs": [],
   "source": [
    "os.makedirs(DOWNLOAD_DIR, exist_ok=True)\n",
    "part_index = 0 # Dat, Huan, Tuan, Phat, Khoa"
   ]
  },
  {
   "cell_type": "code",
   "execution_count": null,
   "id": "9cc76b5b",
   "metadata": {},
   "outputs": [],
   "source": [
    "video_list = glob.glob(f\"{MEDIA_DIR}/*.json\")\n",
    "\n",
    "# List to hold data\n",
    "data_list = []\n",
    "ignore_fields = [\"description\", \"keywords\", \"title\"]\n",
    "\n",
    "for file in video_list:\n",
    "    with open(file, 'r', encoding='utf-8') as f:\n",
    "        data = json.load(f)  # Load JSON content\n",
    "        data['name'] = os.path.basename(file).replace('.json', '')\n",
    "        for ignore_field in ignore_fields:\n",
    "            if ignore_field in data:\n",
    "                del data[ignore_field]\n",
    "        \n",
    "        data_list.append(data)\n",
    "\n",
    "df = pd.DataFrame(data_list)\n",
    "df.set_index('name', inplace=True)\n",
    "# sort index\n",
    "df.sort_index(inplace=True)\n",
    "df.head()"
   ]
  },
  {
   "cell_type": "code",
   "execution_count": null,
   "id": "3abf1f37",
   "metadata": {},
   "outputs": [],
   "source": [
    "df_parts = np.array_split(df, 5)\n",
    "\n",
    "# # Access each part\n",
    "# for i, part in enumerate(df_parts, 0):\n",
    "#     print(f\"Part {i + 1}:\\n\", part.index[0], part.index[-1], \"\\n\")\n",
    "\n",
    "df = df_parts[part_index] # select part here"
   ]
  },
  {
   "cell_type": "code",
   "execution_count": null,
   "id": "a5029b8a",
   "metadata": {},
   "outputs": [],
   "source": [
    "MAX_WORKERS = 4"
   ]
  },
  {
   "cell_type": "code",
   "execution_count": null,
   "id": "9247b599",
   "metadata": {},
   "outputs": [],
   "source": [
    "from concurrent.futures import ThreadPoolExecutor, as_completed\n",
    "\n",
    "\n",
    "# Common download options\n",
    "base_opts = {\n",
    "    'format': 'mp4',\n",
    "    'quiet': True,\n",
    "    'writesubtitles': True,\n",
    "    'subtitleslangs': ['vi'],\n",
    "    'writeautomaticsub': True,\n",
    "}\n",
    "\n",
    "def download_video(name, row):\n",
    "    batchh = name.split(\"_\")[0]  # sanitize filename\n",
    "    output_path = f\"{DOWNLOAD_DIR}/{batchh}/{name}.%(ext)s\"\n",
    "\n",
    "    if os.path.exists(output_path):\n",
    "        return f\"Video {name} already exists, skipping.\"\n",
    "\n",
    "    ydl_opts = {**base_opts, 'outtmpl': output_path}\n",
    "\n",
    "    try:\n",
    "        with yt_dlp.YoutubeDL(ydl_opts) as ydl:\n",
    "            ydl.download([row['watch_url']])\n",
    "        return f\"Downloaded {name}\"\n",
    "    except Exception as e:\n",
    "        return f\"Failed {name}: {e}\"\n",
    "\n",
    "# Number of parallel threads\n",
    "with ThreadPoolExecutor(max_workers=MAX_WORKERS) as executor:\n",
    "    futures = [executor.submit(download_video, name, row) for name, row in df.iterrows()]\n",
    "    for f in tqdm(as_completed(futures), total=len(futures), desc=\"Downloading videos\"):\n",
    "        print(f.result())"
   ]
  }
 ],
 "metadata": {
  "kernelspec": {
   "display_name": ".venv (3.12.2)",
   "language": "python",
   "name": "python3"
  },
  "language_info": {
   "codemirror_mode": {
    "name": "ipython",
    "version": 3
   },
   "file_extension": ".py",
   "mimetype": "text/x-python",
   "name": "python",
   "nbconvert_exporter": "python",
   "pygments_lexer": "ipython3",
   "version": "3.12.2"
  }
 },
 "nbformat": 4,
 "nbformat_minor": 5
}
