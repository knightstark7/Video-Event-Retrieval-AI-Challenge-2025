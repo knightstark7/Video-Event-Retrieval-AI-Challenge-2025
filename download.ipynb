{
 "cells": [
  {
   "cell_type": "code",
   "execution_count": null,
   "id": "43bb0470",
   "metadata": {},
   "outputs": [],
   "source": [
    "import numpy as np\n",
    "import pandas as pd\n",
    "import yt_dlp\n",
    "from tqdm import tqdm\n",
    "import os\n",
    "import glob\n",
    "import json"
   ]
  },
  {
   "cell_type": "code",
   "execution_count": null,
   "id": "a1e5679b",
   "metadata": {},
   "outputs": [],
   "source": [
    "MEDIA_PATH = '/mnt/d/AI Challenge/Data/media-info'"
   ]
  },
  {
   "cell_type": "code",
   "execution_count": null,
   "id": "9cc76b5b",
   "metadata": {},
   "outputs": [],
   "source": [
    "video_list = glob.glob(f\"{MEDIA_PATH}/*.json\")\n",
    "\n",
    "# List to hold data\n",
    "data_list = []\n",
    "ignore_fields = [\"description\", \"keywords\", \"title\"]\n",
    "\n",
    "for file in video_list:\n",
    "    with open(file, 'r', encoding='utf-8') as f:\n",
    "        data = json.load(f)  # Load JSON content\n",
    "        data['name'] = os.path.basename(file).replace('.json', '')\n",
    "        for ignore_field in ignore_fields:\n",
    "            if ignore_field in data:\n",
    "                del data[ignore_field]\n",
    "        \n",
    "        data_list.append(data)\n",
    "\n",
    "df = pd.DataFrame(data_list)\n",
    "df.set_index('name', inplace=True)\n",
    "df.head()"
   ]
  },
  {
   "cell_type": "code",
   "execution_count": null,
   "id": "3abf1f37",
   "metadata": {},
   "outputs": [],
   "source": [
    "df_parts = np.array_split(df, 5)\n",
    "\n",
    "# Access each part\n",
    "for i, part in enumerate(df_parts, 0):\n",
    "    print(f\"Part {i + 1}:\\n\", part.index[0], part.index[-1], \"\\n\")"
   ]
  },
  {
   "cell_type": "code",
   "execution_count": null,
   "id": "b819e862",
   "metadata": {},
   "outputs": [],
   "source": [
    "df = df_parts[0]"
   ]
  },
  {
   "cell_type": "code",
   "execution_count": null,
   "id": "9247b599",
   "metadata": {},
   "outputs": [],
   "source": [
    "DOWNLOAD_FOLDER = '/mnt/d/AI Challenge/Data/video'\n",
    "os.makedirs(DOWNLOAD_FOLDER, exist_ok=True)\n",
    "\n",
    "# Download options for 360p only\n",
    "ydl_opts = {\n",
    "    'format': 'mp4',\n",
    "    # 'format': 'bestvideo[height<=360]+bestaudio/best[height<=360]',\n",
    "    # 'merge_output_format': 'mp4',\n",
    "    'outtmpl': f'{DOWNLOAD_FOLDER}/%(id)s.%(ext)s',\n",
    "    'quiet': True,\n",
    "    \n",
    "    # Subtitle options\n",
    "    'writesubtitles': True,           # Download subtitles\n",
    "    'subtitleslangs': ['vi'],         # Vietnamese only\n",
    "    'writeautomaticsub': True,        # Download auto-generated if manual not available\n",
    "    # 'embedsubtitles': True,           # Embed subtitles into the video (for mp4/mkv)\n",
    "    \n",
    "    # 'postprocessor_args': ['-c:v', 'libx264', '-preset', 'veryfast', '-crf', '23']\n",
    "}\n",
    "\n",
    "\n",
    "# Initialize downloader\n",
    "with yt_dlp.YoutubeDL(ydl_opts) as ydl:\n",
    "    for name, row in tqdm(df.iterrows(), total=len(df), desc=\"Downloading videos\"):\n",
    "        if os.path.exists(f\"{DOWNLOAD_FOLDER}/{name}.mp4\"):\n",
    "            print(f\"Video {name} already exists, skipping download.\")\n",
    "            continue\n",
    "        try:\n",
    "            ydl.download([row['watch_url']])\n",
    "        except Exception as e:\n",
    "            print(f\"Failed to download {name}: {e}\")"
   ]
  }
 ],
 "metadata": {
  "kernelspec": {
   "display_name": ".venv (3.12.2)",
   "language": "python",
   "name": "python3"
  },
  "language_info": {
   "codemirror_mode": {
    "name": "ipython",
    "version": 3
   },
   "file_extension": ".py",
   "mimetype": "text/x-python",
   "name": "python",
   "nbconvert_exporter": "python",
   "pygments_lexer": "ipython3",
   "version": "3.12.2"
  }
 },
 "nbformat": 4,
 "nbformat_minor": 5
}
