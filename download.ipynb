{
 "cells": [
  {
   "cell_type": "code",
   "execution_count": 1,
   "id": "43bb0470",
   "metadata": {},
   "outputs": [],
   "source": [
    "import numpy as np\n",
    "import pandas as pd\n",
    "import yt_dlp\n",
    "from tqdm import tqdm\n",
    "import os\n",
    "import glob\n",
    "import json"
   ]
  },
  {
   "cell_type": "code",
   "execution_count": 2,
   "id": "a1e5679b",
   "metadata": {},
   "outputs": [],
   "source": [
    "MEDIA_PATH = '/mnt/d/AI Challenge/Data/media-info'\n",
    "DOWNLOAD_FOLDER = '/mnt/d/AI Challenge/Data/video'\n",
    "os.makedirs(DOWNLOAD_FOLDER, exist_ok=True)\n",
    "part_index = 0 # Dat, Huan, Tuan, Phat, Khoa"
   ]
  },
  {
   "cell_type": "code",
   "execution_count": 3,
   "id": "9cc76b5b",
   "metadata": {},
   "outputs": [
    {
     "data": {
      "text/html": [
       "<div>\n",
       "<style scoped>\n",
       "    .dataframe tbody tr th:only-of-type {\n",
       "        vertical-align: middle;\n",
       "    }\n",
       "\n",
       "    .dataframe tbody tr th {\n",
       "        vertical-align: top;\n",
       "    }\n",
       "\n",
       "    .dataframe thead th {\n",
       "        text-align: right;\n",
       "    }\n",
       "</style>\n",
       "<table border=\"1\" class=\"dataframe\">\n",
       "  <thead>\n",
       "    <tr style=\"text-align: right;\">\n",
       "      <th></th>\n",
       "      <th>author</th>\n",
       "      <th>channel_id</th>\n",
       "      <th>channel_url</th>\n",
       "      <th>length</th>\n",
       "      <th>publish_date</th>\n",
       "      <th>thumbnail_url</th>\n",
       "      <th>watch_url</th>\n",
       "    </tr>\n",
       "    <tr>\n",
       "      <th>name</th>\n",
       "      <th></th>\n",
       "      <th></th>\n",
       "      <th></th>\n",
       "      <th></th>\n",
       "      <th></th>\n",
       "      <th></th>\n",
       "      <th></th>\n",
       "    </tr>\n",
       "  </thead>\n",
       "  <tbody>\n",
       "    <tr>\n",
       "      <th>L21_V001</th>\n",
       "      <td>60 Giây Official</td>\n",
       "      <td>UCRjzfa1E0gA50lvDQipbDMg</td>\n",
       "      <td>https://www.youtube.com/channel/UCRjzfa1E0gA50...</td>\n",
       "      <td>1262</td>\n",
       "      <td>01/08/2024</td>\n",
       "      <td>https://i.ytimg.com/vi/Rzpw5WR7nAY/sddefault.j...</td>\n",
       "      <td>https://youtube.com/watch?v=Rzpw5WR7nAY</td>\n",
       "    </tr>\n",
       "    <tr>\n",
       "      <th>L21_V002</th>\n",
       "      <td>60 Giây Official</td>\n",
       "      <td>UCRjzfa1E0gA50lvDQipbDMg</td>\n",
       "      <td>https://www.youtube.com/channel/UCRjzfa1E0gA50...</td>\n",
       "      <td>1057</td>\n",
       "      <td>02/08/2024</td>\n",
       "      <td>https://i.ytimg.com/vi/qqC4FLMNLdI/sddefault.j...</td>\n",
       "      <td>https://youtube.com/watch?v=qqC4FLMNLdI</td>\n",
       "    </tr>\n",
       "    <tr>\n",
       "      <th>L21_V003</th>\n",
       "      <td>60 Giây Official</td>\n",
       "      <td>UCRjzfa1E0gA50lvDQipbDMg</td>\n",
       "      <td>https://www.youtube.com/channel/UCRjzfa1E0gA50...</td>\n",
       "      <td>1198</td>\n",
       "      <td>03/08/2024</td>\n",
       "      <td>https://i.ytimg.com/vi/JrDeTiLY0u8/sddefault.j...</td>\n",
       "      <td>https://youtube.com/watch?v=JrDeTiLY0u8</td>\n",
       "    </tr>\n",
       "    <tr>\n",
       "      <th>L21_V005</th>\n",
       "      <td>60 Giây Official</td>\n",
       "      <td>UCRjzfa1E0gA50lvDQipbDMg</td>\n",
       "      <td>https://www.youtube.com/channel/UCRjzfa1E0gA50...</td>\n",
       "      <td>943</td>\n",
       "      <td>05/08/2024</td>\n",
       "      <td>https://i.ytimg.com/vi/GT5KeMmD5Sw/sddefault.j...</td>\n",
       "      <td>https://youtube.com/watch?v=GT5KeMmD5Sw</td>\n",
       "    </tr>\n",
       "    <tr>\n",
       "      <th>L21_V006</th>\n",
       "      <td>60 Giây Official</td>\n",
       "      <td>UCRjzfa1E0gA50lvDQipbDMg</td>\n",
       "      <td>https://www.youtube.com/channel/UCRjzfa1E0gA50...</td>\n",
       "      <td>1036</td>\n",
       "      <td>06/08/2024</td>\n",
       "      <td>https://i.ytimg.com/vi/HphV3ZNfA5A/sddefault.j...</td>\n",
       "      <td>https://youtube.com/watch?v=HphV3ZNfA5A</td>\n",
       "    </tr>\n",
       "  </tbody>\n",
       "</table>\n",
       "</div>"
      ],
      "text/plain": [
       "                    author                channel_id  \\\n",
       "name                                                   \n",
       "L21_V001  60 Giây Official  UCRjzfa1E0gA50lvDQipbDMg   \n",
       "L21_V002  60 Giây Official  UCRjzfa1E0gA50lvDQipbDMg   \n",
       "L21_V003  60 Giây Official  UCRjzfa1E0gA50lvDQipbDMg   \n",
       "L21_V005  60 Giây Official  UCRjzfa1E0gA50lvDQipbDMg   \n",
       "L21_V006  60 Giây Official  UCRjzfa1E0gA50lvDQipbDMg   \n",
       "\n",
       "                                                channel_url  length  \\\n",
       "name                                                                  \n",
       "L21_V001  https://www.youtube.com/channel/UCRjzfa1E0gA50...    1262   \n",
       "L21_V002  https://www.youtube.com/channel/UCRjzfa1E0gA50...    1057   \n",
       "L21_V003  https://www.youtube.com/channel/UCRjzfa1E0gA50...    1198   \n",
       "L21_V005  https://www.youtube.com/channel/UCRjzfa1E0gA50...     943   \n",
       "L21_V006  https://www.youtube.com/channel/UCRjzfa1E0gA50...    1036   \n",
       "\n",
       "         publish_date                                      thumbnail_url  \\\n",
       "name                                                                       \n",
       "L21_V001   01/08/2024  https://i.ytimg.com/vi/Rzpw5WR7nAY/sddefault.j...   \n",
       "L21_V002   02/08/2024  https://i.ytimg.com/vi/qqC4FLMNLdI/sddefault.j...   \n",
       "L21_V003   03/08/2024  https://i.ytimg.com/vi/JrDeTiLY0u8/sddefault.j...   \n",
       "L21_V005   05/08/2024  https://i.ytimg.com/vi/GT5KeMmD5Sw/sddefault.j...   \n",
       "L21_V006   06/08/2024  https://i.ytimg.com/vi/HphV3ZNfA5A/sddefault.j...   \n",
       "\n",
       "                                        watch_url  \n",
       "name                                               \n",
       "L21_V001  https://youtube.com/watch?v=Rzpw5WR7nAY  \n",
       "L21_V002  https://youtube.com/watch?v=qqC4FLMNLdI  \n",
       "L21_V003  https://youtube.com/watch?v=JrDeTiLY0u8  \n",
       "L21_V005  https://youtube.com/watch?v=GT5KeMmD5Sw  \n",
       "L21_V006  https://youtube.com/watch?v=HphV3ZNfA5A  "
      ]
     },
     "execution_count": 3,
     "metadata": {},
     "output_type": "execute_result"
    }
   ],
   "source": [
    "video_list = glob.glob(f\"{MEDIA_PATH}/*.json\")\n",
    "\n",
    "# List to hold data\n",
    "data_list = []\n",
    "ignore_fields = [\"description\", \"keywords\", \"title\"]\n",
    "\n",
    "for file in video_list:\n",
    "    with open(file, 'r', encoding='utf-8') as f:\n",
    "        data = json.load(f)  # Load JSON content\n",
    "        data['name'] = os.path.basename(file).replace('.json', '')\n",
    "        for ignore_field in ignore_fields:\n",
    "            if ignore_field in data:\n",
    "                del data[ignore_field]\n",
    "        \n",
    "        data_list.append(data)\n",
    "\n",
    "df = pd.DataFrame(data_list)\n",
    "df.set_index('name', inplace=True)\n",
    "df.head()"
   ]
  },
  {
   "cell_type": "code",
   "execution_count": 4,
   "id": "3abf1f37",
   "metadata": {},
   "outputs": [
    {
     "name": "stderr",
     "output_type": "stream",
     "text": [
      "/home/datlinux/Video-Event-Retrieval-AI-Challenge-2025/.venv/lib/python3.12/site-packages/numpy/_core/fromnumeric.py:57: FutureWarning: 'DataFrame.swapaxes' is deprecated and will be removed in a future version. Please use 'DataFrame.transpose' instead.\n",
      "  return bound(*args, **kwds)\n"
     ]
    }
   ],
   "source": [
    "df_parts = np.array_split(df, 5)\n",
    "\n",
    "# # Access each part\n",
    "# for i, part in enumerate(df_parts, 0):\n",
    "#     print(f\"Part {i + 1}:\\n\", part.index[0], part.index[-1], \"\\n\")\n",
    "\n",
    "df = df_parts[part_index] # select part here"
   ]
  },
  {
   "cell_type": "code",
   "execution_count": 5,
   "id": "a5029b8a",
   "metadata": {},
   "outputs": [],
   "source": [
    "MAX_WORKERS = 4"
   ]
  },
  {
   "cell_type": "code",
   "execution_count": null,
   "id": "9247b599",
   "metadata": {},
   "outputs": [
    {
     "name": "stderr",
     "output_type": "stream",
     "text": [
      "Downloading videos:   0%|          | 0/175 [00:00<?, ?it/s]WARNING: The extractor specified to use impersonation for this download, but no impersonate target is available. If you encounter errors, then see  https://github.com/yt-dlp/yt-dlp#impersonation  for information on installing the required dependencies\n",
      "WARNING: The extractor specified to use impersonation for this download, but no impersonate target is available. If you encounter errors, then see  https://github.com/yt-dlp/yt-dlp#impersonation  for information on installing the required dependencies\n",
      "WARNING: The extractor specified to use impersonation for this download, but no impersonate target is available. If you encounter errors, then see  https://github.com/yt-dlp/yt-dlp#impersonation  for information on installing the required dependencies\n"
     ]
    },
    {
     "name": "stdout",
     "output_type": "stream",
     "text": [
      "[download]    3.00KiB at   64.65KiB/s (00:00:00)"
     ]
    },
    {
     "name": "stderr",
     "output_type": "stream",
     "text": [
      "WARNING: The extractor specified to use impersonation for this download, but no impersonate target is available. If you encounter errors, then see  https://github.com/yt-dlp/yt-dlp#impersonation  for information on installing the required dependencies\n"
     ]
    },
    {
     "name": "stdout",
     "output_type": "stream",
     "text": [
      "[download]  25.0% of   79.00MiB at    1.23MiB/s ETA 00:48  "
     ]
    },
    {
     "name": "stderr",
     "output_type": "stream",
     "text": [
      "Downloading videos:   0%|          | 0/175 [00:20<?, ?it/s]"
     ]
    },
    {
     "name": "stdout",
     "output_type": "stream",
     "text": [
      "[download]  27.3% of   79.00MiB at    7.26MiB/s ETA 00:07"
     ]
    },
    {
     "name": "stderr",
     "output_type": "stream",
     "text": [
      "\n"
     ]
    },
    {
     "name": "stdout",
     "output_type": "stream",
     "text": [
      "[download]  88.4% of   79.00MiB at    1.29MiB/s ETA 00:07  "
     ]
    },
    {
     "name": "stderr",
     "output_type": "stream",
     "text": [
      "WARNING: The extractor specified to use impersonation for this download, but no impersonate target is available. If you encounter errors, then see  https://github.com/yt-dlp/yt-dlp#impersonation  for information on installing the required dependencies\n"
     ]
    },
    {
     "name": "stdout",
     "output_type": "stream",
     "text": [
      "[download]  22.9% of   76.47MiB at   31.06MiB/s ETA 00:01  "
     ]
    },
    {
     "name": "stderr",
     "output_type": "stream",
     "text": [
      "WARNING: The extractor specified to use impersonation for this download, but no impersonate target is available. If you encounter errors, then see  https://github.com/yt-dlp/yt-dlp#impersonation  for information on installing the required dependencies\n"
     ]
    },
    {
     "name": "stdout",
     "output_type": "stream",
     "text": [
      "[download]  15.7% of   62.30MiB at  790.40KiB/s ETA 01:08  "
     ]
    },
    {
     "name": "stderr",
     "output_type": "stream",
     "text": [
      "WARNING: The extractor specified to use impersonation for this download, but no impersonate target is available. If you encounter errors, then see  https://github.com/yt-dlp/yt-dlp#impersonation  for information on installing the required dependencies\n"
     ]
    },
    {
     "name": "stdout",
     "output_type": "stream",
     "text": [
      "[download]  76.3% of   76.47MiB at   11.73MiB/s ETA 00:01"
     ]
    }
   ],
   "source": [
    "from concurrent.futures import ThreadPoolExecutor, as_completed\n",
    "\n",
    "\n",
    "# Common download options\n",
    "base_opts = {\n",
    "    'format': 'mp4',\n",
    "    'quiet': True,\n",
    "    'writesubtitles': True,\n",
    "    'subtitleslangs': ['vi'],\n",
    "    'writeautomaticsub': True,\n",
    "}\n",
    "\n",
    "def download_video(name, row):\n",
    "    batchh = name.split(\"_\")[0]  # sanitize filename\n",
    "    output_path = f\"{DOWNLOAD_FOLDER}/{batchh}/{name}.%(ext)s\"\n",
    "\n",
    "    if os.path.exists(output_path):\n",
    "        return f\"Video {name} already exists, skipping.\"\n",
    "\n",
    "    ydl_opts = {**base_opts, 'outtmpl': output_path}\n",
    "\n",
    "    try:\n",
    "        with yt_dlp.YoutubeDL(ydl_opts) as ydl:\n",
    "            ydl.download([row['watch_url']])\n",
    "        return f\"Downloaded {name}\"\n",
    "    except Exception as e:\n",
    "        return f\"Failed {name}: {e}\"\n",
    "\n",
    "# Number of parallel threads\n",
    "with ThreadPoolExecutor(max_workers=MAX_WORKERS) as executor:\n",
    "    futures = [executor.submit(download_video, name, row) for name, row in df.iterrows()]\n",
    "    for f in tqdm(as_completed(futures), total=len(futures), desc=\"Downloading videos\"):\n",
    "        print(f.result())"
   ]
  }
 ],
 "metadata": {
  "kernelspec": {
   "display_name": ".venv (3.12.2)",
   "language": "python",
   "name": "python3"
  },
  "language_info": {
   "codemirror_mode": {
    "name": "ipython",
    "version": 3
   },
   "file_extension": ".py",
   "mimetype": "text/x-python",
   "name": "python",
   "nbconvert_exporter": "python",
   "pygments_lexer": "ipython3",
   "version": "3.12.2"
  }
 },
 "nbformat": 4,
 "nbformat_minor": 5
}
