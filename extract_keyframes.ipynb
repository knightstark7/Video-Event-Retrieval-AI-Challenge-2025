{
 "cells": [
  {
   "cell_type": "code",
   "execution_count": null,
   "id": "08045901",
   "metadata": {},
   "outputs": [],
   "source": [
    "import os\n",
    "import cv2\n",
    "import pandas as pd\n",
    "import glob\n",
    "from concurrent.futures import ThreadPoolExecutor, as_completed\n",
    "from config import DOWNLOAD_DIR, SCENE_DIR, KEYFRAME_DIR"
   ]
  },
  {
   "cell_type": "code",
   "execution_count": null,
   "id": "c467883d",
   "metadata": {},
   "outputs": [],
   "source": [
    "# Paths\n",
    "os.makedirs(KEYFRAME_DIR, exist_ok=True)"
   ]
  },
  {
   "cell_type": "code",
   "execution_count": null,
   "id": "84c899a9",
   "metadata": {},
   "outputs": [],
   "source": [
    "# Recursively find all videos\n",
    "videos = glob.glob(os.path.join(DOWNLOAD_DIR, '**', '*.mp4'))\n",
    "if not videos:\n",
    "    print(\"[ERROR] No videos found.\")\n",
    "    return\n",
    "\n",
    "print(f\"[INFO] Found {len(videos)} videos to process.\")"
   ]
  },
  {
   "cell_type": "code",
   "execution_count": null,
   "id": "27bea9d1",
   "metadata": {},
   "outputs": [],
   "source": [
    "def process_video(video_path):\n",
    "    base_name = os.path.splitext(os.path.basename(video_path))[0]\n",
    "    batchh = base_name.split(\"_\")[0]\n",
    "    scene_path = os.path.join(SCENE_DIR, f\"{batchh}/{base_name}.csv\")\n",
    "    scene_list = pd.read_csv(scene_path)\n",
    "    \n",
    "    os.makedirs(os.path.join(KEYFRAME_DIR, batchh, base_name), exist_ok=True)\n",
    "    \n",
    "    # Extract keyframes\n",
    "    cap = cv2.VideoCapture(video_path)\n",
    "    for i, row in scene_list.iterrows():\n",
    "        median_frame = int(row['median_frame'])\n",
    "        \n",
    "        cap.set(cv2.CAP_PROP_POS_FRAMES, median_frame)\n",
    "        ret, frame = cap.read()\n",
    "        if ret:\n",
    "            keyframe_path = os.path.join(KEYFRAME_DIR, f\"{batchh}/{base_name}/{base_name}_{median_frame}.jpg\")\n",
    "            cv2.imwrite(keyframe_path, frame)\n",
    "        else:\n",
    "            print(f\"[WARNING] Could not read frame {median_frame} in {video_name}\")\n",
    "\n",
    "    cap.release()\n",
    "    video_manager.release()\n",
    "    print(f\"[DONE] {rel_path} processed.\")\n",
    "\n",
    "\n",
    "# Process in parallel\n",
    "max_workers = 4\n",
    "with ThreadPoolExecutor(max_workers=max_workers) as executor:\n",
    "    futures = [executor.submit(process_video, v) for v in videos]\n",
    "    for _ in tqdm(as_completed(futures), total=len(futures), desc=\"Processing videos\"):\n",
    "        _.result()"
   ]
  }
 ],
 "metadata": {
  "kernelspec": {
   "display_name": ".venv (3.12.2)",
   "language": "python",
   "name": "python3"
  },
  "language_info": {
   "codemirror_mode": {
    "name": "ipython",
    "version": 3
   },
   "file_extension": ".py",
   "mimetype": "text/x-python",
   "name": "python",
   "nbconvert_exporter": "python",
   "pygments_lexer": "ipython3",
   "version": "3.12.2"
  }
 },
 "nbformat": 4,
 "nbformat_minor": 5
}
