{
 "cells": [
  {
   "cell_type": "code",
   "execution_count": 16,
   "id": "08045901",
   "metadata": {},
   "outputs": [],
   "source": [
    "import os\n",
    "import cv2\n",
    "import pandas as pd\n",
    "import glob\n",
    "from concurrent.futures import ThreadPoolExecutor, as_completed\n",
    "from configg import DOWNLOAD_DIR, SCENE_DIR, KEYFRAME_DIR"
   ]
  },
  {
   "cell_type": "code",
   "execution_count": 17,
   "id": "c467883d",
   "metadata": {},
   "outputs": [],
   "source": [
    "# Paths\n",
    "os.makedirs(KEYFRAME_DIR, exist_ok=True)"
   ]
  },
  {
   "cell_type": "code",
   "execution_count": null,
   "id": "84c899a9",
   "metadata": {},
   "outputs": [
    {
     "ename": "AttributeError",
     "evalue": "module 'config' has no attribute 'DOWNLOAD_DIR'",
     "output_type": "error",
     "traceback": [
      "\u001b[31m---------------------------------------------------------------------------\u001b[39m",
      "\u001b[31mAttributeError\u001b[39m                            Traceback (most recent call last)",
      "\u001b[36mCell\u001b[39m\u001b[36m \u001b[39m\u001b[32mIn[18]\u001b[39m\u001b[32m, line 2\u001b[39m\n\u001b[32m      1\u001b[39m \u001b[38;5;66;03m# Recursively find all videos\u001b[39;00m\n\u001b[32m----> \u001b[39m\u001b[32m2\u001b[39m videos = glob.glob(os.path.join(\u001b[43mcf\u001b[49m\u001b[43m.\u001b[49m\u001b[43mDOWNLOAD_DIR\u001b[49m, \u001b[33m'\u001b[39m\u001b[33m**\u001b[39m\u001b[33m'\u001b[39m, \u001b[33m'\u001b[39m\u001b[33m*.mp4\u001b[39m\u001b[33m'\u001b[39m))\n\u001b[32m      3\u001b[39m \u001b[38;5;28;01mif\u001b[39;00m \u001b[38;5;129;01mnot\u001b[39;00m videos:\n\u001b[32m      4\u001b[39m     \u001b[38;5;28mprint\u001b[39m(\u001b[33m\"\u001b[39m\u001b[33m[ERROR] No videos found.\u001b[39m\u001b[33m\"\u001b[39m)\n",
      "\u001b[31mAttributeError\u001b[39m: module 'config' has no attribute 'DOWNLOAD_DIR'"
     ]
    }
   ],
   "source": [
    "# Recursively find all videos\n",
    "videos = glob.glob(os.path.join(DOWNLOAD_DIR, '**', '*.mp4'))\n",
    "if not videos:\n",
    "    print(\"[ERROR] No videos found.\")\n",
    "    return\n",
    "\n",
    "print(f\"[INFO] Found {len(videos)} videos to process.\")"
   ]
  },
  {
   "cell_type": "code",
   "execution_count": null,
   "id": "27bea9d1",
   "metadata": {},
   "outputs": [],
   "source": [
    "def process_video(video_path):\n",
    "    base_name = os.path.splitext(os.path.basename(video_path))[0]\n",
    "    batchh = base_name.split(\"_\")[0]\n",
    "    scene_path = os.path.join(SCENE_DIR, f\"{batchh}/{base_name}.csv\")\n",
    "    scene_list = pd.read_csv(scene_path)\n",
    "    \n",
    "    os.makedirs(os.path.join(KEYFRAME_DIR, batchh, base_name), exist_ok=True)\n",
    "    \n",
    "    # Extract keyframes\n",
    "    cap = cv2.VideoCapture(video_path)\n",
    "    for i, row in scene_list.iterrows():\n",
    "        median_frame = int(row['median_frame'])\n",
    "        \n",
    "        cap.set(cv2.CAP_PROP_POS_FRAMES, median_frame)\n",
    "        ret, frame = cap.read()\n",
    "        if ret:\n",
    "            keyframe_path = os.path.join(KEYFRAME_DIR, f\"{batchh}/{base_name}/{base_name}_{median_frame}.jpg\")\n",
    "            cv2.imwrite(keyframe_path, frame)\n",
    "        else:\n",
    "            print(f\"[WARNING] Could not read frame {median_frame} in {video_name}\")\n",
    "\n",
    "    cap.release()\n",
    "    print(f\"[DONE] {video_path} processed.\")\n",
    "\n",
    "\n",
    "# Process in parallel\n",
    "max_workers = 4\n",
    "with ThreadPoolExecutor(max_workers=max_workers) as executor:\n",
    "    futures = [executor.submit(process_video, v) for v in videos]\n",
    "    for _ in tqdm(as_completed(futures), total=len(futures), desc=\"Processing videos\"):\n",
    "        _.result()"
   ]
  }
 ],
 "metadata": {
  "kernelspec": {
   "display_name": ".venv (3.12.2)",
   "language": "python",
   "name": "python3"
  },
  "language_info": {
   "codemirror_mode": {
    "name": "ipython",
    "version": 3
   },
   "file_extension": ".py",
   "mimetype": "text/x-python",
   "name": "python",
   "nbconvert_exporter": "python",
   "pygments_lexer": "ipython3",
   "version": "3.12.2"
  }
 },
 "nbformat": 4,
 "nbformat_minor": 5
}
