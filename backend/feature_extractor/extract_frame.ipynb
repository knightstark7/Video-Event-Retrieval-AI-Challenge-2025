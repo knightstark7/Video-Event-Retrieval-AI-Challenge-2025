{
 "cells": [
  {
   "cell_type": "code",
   "execution_count": 1,
   "id": "12c8de9b",
   "metadata": {},
   "outputs": [],
   "source": [
    "import cv2\n",
    "from tqdm import tqdm\n",
    "import torch\n",
    "import glob\n",
    "import os\n",
    "import h5py\n",
    "import numpy as np"
   ]
  },
  {
   "cell_type": "code",
   "execution_count": 2,
   "id": "2f303dc4",
   "metadata": {},
   "outputs": [],
   "source": [
    "def extract_frames(video_path, fps=1, max_frames=20, save_root=\"data/frames\"):\n",
    "    video_name = os.path.splitext(os.path.basename(video_path))[0]\n",
    "    save_dir = os.path.join(save_root, video_name)\n",
    "    os.makedirs(save_dir, exist_ok=True)\n",
    "\n",
    "    cap = cv2.VideoCapture(video_path)\n",
    "    video_fps = cap.get(cv2.CAP_PROP_FPS)\n",
    "    frame_interval = int(video_fps / fps)\n",
    "    frames = []\n",
    "    count = 0\n",
    "    frame_id = 0\n",
    "    while cap.isOpened() and len(frames) < max_frames:\n",
    "        ret, frame = cap.read()\n",
    "        if not ret:\n",
    "            break\n",
    "        if count % frame_interval == 0:\n",
    "            # frame = cv2.cvtColor(frame, cv2.COLOR_BGR2RGB)\n",
    "            frames.append(frame)\n",
    "            frame_path = os.path.join(save_dir, f\"frame_{frame_id:04d}.jpg\")\n",
    "            cv2.imwrite(frame_path, frame)  # Lưu bằng BGR gốc\n",
    "            frame_id += 1\n",
    "\n",
    "        count += 1\n",
    "    cap.release()"
   ]
  },
  {
   "cell_type": "code",
   "execution_count": 3,
   "id": "a7a5caa9",
   "metadata": {},
   "outputs": [
    {
     "name": "stderr",
     "output_type": "stream",
     "text": [
      "Extracting frames: 100%|██████████| 1970/1970 [09:41<00:00,  3.39it/s]\n"
     ]
    }
   ],
   "source": [
    "video_paths = glob.glob(os.path.join('../../../Dataset/MSVD/raw/', '*.avi'))\n",
    "for video_path in tqdm(video_paths, desc=\"Extracting frames\"):\n",
    "    extract_frames(video_path)"
   ]
  }
 ],
 "metadata": {
  "kernelspec": {
   "display_name": "mainK",
   "language": "python",
   "name": "python3"
  },
  "language_info": {
   "codemirror_mode": {
    "name": "ipython",
    "version": 3
   },
   "file_extension": ".py",
   "mimetype": "text/x-python",
   "name": "python",
   "nbconvert_exporter": "python",
   "pygments_lexer": "ipython3",
   "version": "3.10.18"
  }
 },
 "nbformat": 4,
 "nbformat_minor": 5
}
