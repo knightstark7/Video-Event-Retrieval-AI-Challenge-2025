{
 "cells": [
  {
   "cell_type": "markdown",
   "metadata": {},
   "source": [
    "# Video Downsample → Scene Detection → Keyframe Extraction\n",
    "\n",
    "This notebook combines video downsampling (1920x1080 → 640x360), scene detection, and keyframe extraction. (For dataset batch 2)"
   ]
  },
  {
   "cell_type": "code",
   "execution_count": null,
   "metadata": {},
   "outputs": [],
   "source": [
    "# Install required packages\n",
    "!pip install opencv-python scenedetect pandas tqdm ffmpeg-python -q"
   ]
  },
  {
   "cell_type": "code",
   "execution_count": 1,
   "metadata": {},
   "outputs": [],
   "source": [
    "import os\n",
    "import cv2\n",
    "import pandas as pd\n",
    "import glob\n",
    "import subprocess\n",
    "from tqdm import tqdm\n",
    "from concurrent.futures import ThreadPoolExecutor, as_completed\n",
    "from scenedetect import detect, AdaptiveDetector\n",
    "from cfg import DOWNLOAD_DIR, SCENE_DIR, KEYFRAME_DIR"
   ]
  },
  {
   "cell_type": "code",
   "execution_count": 2,
   "metadata": {},
   "outputs": [
    {
     "name": "stdout",
     "output_type": "stream",
     "text": [
      "Source videos: Videos_K02\n",
      "Downsampled videos: downsampled_videos\n",
      "Scene data: scene\n",
      "Keyframes: keyframes_K02\n",
      "Target resolution: 640x360\n"
     ]
    }
   ],
   "source": [
    "# Configuration\n",
    "TARGET_WIDTH = 640\n",
    "TARGET_HEIGHT = 360\n",
    "DOWNSAMPLED_DIR = os.path.join(os.path.dirname(DOWNLOAD_DIR), \"downsampled_videos\")\n",
    "MAX_WORKERS = 4\n",
    "\n",
    "# Create directories\n",
    "os.makedirs(DOWNSAMPLED_DIR, exist_ok=True)\n",
    "os.makedirs(SCENE_DIR, exist_ok=True)\n",
    "os.makedirs(KEYFRAME_DIR, exist_ok=True)\n",
    "\n",
    "print(f\"Source videos: {DOWNLOAD_DIR}\")\n",
    "print(f\"Downsampled videos: {DOWNSAMPLED_DIR}\")\n",
    "print(f\"Scene data: {SCENE_DIR}\")\n",
    "print(f\"Keyframes: {KEYFRAME_DIR}\")\n",
    "print(f\"Target resolution: {TARGET_WIDTH}x{TARGET_HEIGHT}\")"
   ]
  },
  {
   "cell_type": "code",
   "execution_count": 3,
   "metadata": {},
   "outputs": [
    {
     "name": "stdout",
     "output_type": "stream",
     "text": [
      "Found 31 videos to process\n",
      "1. K02_V001.mp4\n",
      "2. K02_V002.mp4\n",
      "3. K02_V003.mp4\n",
      "4. K02_V004.mp4\n",
      "5. K02_V005.mp4\n",
      "... and 26 more\n"
     ]
    }
   ],
   "source": [
    "# Find all video files\n",
    "video_list = glob.glob(os.path.join(DOWNLOAD_DIR, '*/*.mp4'))\n",
    "print(f\"Found {len(video_list)} videos to process\")\n",
    "\n",
    "# Display first few videos\n",
    "for i, video in enumerate(video_list[:5]):\n",
    "    print(f\"{i+1}. {os.path.basename(video)}\")\n",
    "if len(video_list) > 5:\n",
    "    print(f\"... and {len(video_list) - 5} more\")"
   ]
  },
  {
   "cell_type": "code",
   "execution_count": 10,
   "metadata": {},
   "outputs": [],
   "source": [
    "def downsample_video_ffmpeg(input_path, output_path, target_width=640, target_height=360):\n",
    "    \"\"\"\n",
    "    Downsample video using FFmpeg with OpenCV-compatible output\n",
    "    \"\"\"\n",
    "    try:\n",
    "        # Create output directory\n",
    "        os.makedirs(os.path.dirname(output_path), exist_ok=True)\n",
    "        \n",
    "        # FFmpeg command optimized for OpenCV compatibility\n",
    "        cmd = [\n",
    "            'ffmpeg', '-y',              # Overwrite output files\n",
    "            '-i', input_path,\n",
    "            '-vf', f'scale={target_width}:{target_height}',\n",
    "            '-c:v', 'libx264',          # H.264 codec\n",
    "            '-preset', 'fast',         # Encoding speed/quality balance  \n",
    "            '-crf', '22',               # Quality (lower = better)\n",
    "            output_path\n",
    "        ]\n",
    "        \n",
    "        # Run FFmpeg\n",
    "        result = subprocess.run(cmd, capture_output=True, text=True, check=True)\n",
    "        return True, None\n",
    "        \n",
    "    except subprocess.CalledProcessError as e:\n",
    "        error_msg = e.stderr.strip() if e.stderr else str(e)\n",
    "        return False, f\"FFmpeg error: {error_msg}\"\n",
    "    except Exception as e:\n",
    "        return False, f\"Error: {str(e)}\""
   ]
  },
  {
   "cell_type": "code",
   "execution_count": 11,
   "metadata": {},
   "outputs": [],
   "source": [
    "def process_single_video(video_path):\n",
    "    \"\"\"\n",
    "    Complete pipeline for a single video:\n",
    "    1. Downsample video with FFmpeg\n",
    "    2. Detect scenes\n",
    "    3. Extract keyframes with OpenCV\n",
    "    \"\"\"\n",
    "    base_name = os.path.splitext(os.path.basename(video_path))[0]\n",
    "    batch = base_name.split(\"_\")[0]\n",
    "    \n",
    "    # Paths\n",
    "    downsampled_path = os.path.join(DOWNSAMPLED_DIR, batch, f\"{base_name}.mp4\")\n",
    "    scene_csv_path = os.path.join(SCENE_DIR, batch, f\"{base_name}.csv\")\n",
    "    keyframe_dir = os.path.join(KEYFRAME_DIR, batch, base_name)\n",
    "    \n",
    "    results = {\n",
    "        'video': base_name,\n",
    "        'downsample_success': False,\n",
    "        'scene_detection_success': False,\n",
    "        'keyframe_extraction_success': False,\n",
    "        'errors': []\n",
    "    }\n",
    "    \n",
    "    try:\n",
    "        # Step 1: Downsample video with FFmpeg (skip if already exists)\n",
    "        if os.path.exists(downsampled_path):\n",
    "            results['downsample_success'] = True\n",
    "        else:\n",
    "            success, error = downsample_video_ffmpeg(video_path, downsampled_path, TARGET_WIDTH, TARGET_HEIGHT)\n",
    "            if success:\n",
    "                results['downsample_success'] = True\n",
    "            else:\n",
    "                results['errors'].append(f\"Downsampling failed: {error}\")\n",
    "                return results\n",
    "        \n",
    "        # Step 2: Scene detection (skip if already exists)\n",
    "        if os.path.exists(scene_csv_path):\n",
    "            results['scene_detection_success'] = True\n",
    "            scene_df = pd.read_csv(scene_csv_path)\n",
    "        else:\n",
    "            scene_list = detect(downsampled_path, AdaptiveDetector())\n",
    "            \n",
    "            if scene_list:\n",
    "                scene_df = pd.DataFrame([\n",
    "                    {\n",
    "                        \"start_frame\": start.get_frames(),\n",
    "                        \"start_time\": round(start.get_seconds(), 2),\n",
    "                        \"end_frame\": end.get_frames(),\n",
    "                        \"end_time\": round(end.get_seconds(), 2),\n",
    "                        \"median_frame\": (start.get_frames() + end.get_frames()) // 2,\n",
    "                        \"median_time\": round((start.get_seconds() + end.get_seconds()) / 2, 2),\n",
    "                    }\n",
    "                    for start, end in scene_list\n",
    "                ])\n",
    "                \n",
    "                os.makedirs(os.path.dirname(scene_csv_path), exist_ok=True)\n",
    "                scene_df.to_csv(scene_csv_path, index=False)\n",
    "                results['scene_detection_success'] = True\n",
    "            else:\n",
    "                results['errors'].append(\"No scenes detected\")\n",
    "                return results\n",
    "        \n",
    "        # Step 3: Extract keyframes with OpenCV\n",
    "        os.makedirs(keyframe_dir, exist_ok=True)\n",
    "        \n",
    "        cap = cv2.VideoCapture(downsampled_path)\n",
    "        if not cap.isOpened():\n",
    "            results['errors'].append(\"Could not open downsampled video for keyframe extraction\")\n",
    "            return results\n",
    "        \n",
    "        extracted_count = 0\n",
    "        for _, row in scene_df.iterrows():\n",
    "            median_frame = int(row['median_frame'])\n",
    "            keyframe_path = os.path.join(keyframe_dir, f\"{base_name}_{median_frame}.jpg\")\n",
    "            \n",
    "            # Skip if keyframe already exists\n",
    "            if os.path.exists(keyframe_path):\n",
    "                extracted_count += 1\n",
    "                continue\n",
    "            \n",
    "            cap.set(cv2.CAP_PROP_POS_FRAMES, median_frame)\n",
    "            ret, frame = cap.read()\n",
    "            if ret:\n",
    "                cv2.imwrite(keyframe_path, frame)\n",
    "                extracted_count += 1\n",
    "        \n",
    "        cap.release()\n",
    "        \n",
    "        if extracted_count > 0:\n",
    "            results['keyframe_extraction_success'] = True\n",
    "            results['keyframes_extracted'] = extracted_count\n",
    "        else:\n",
    "            results['errors'].append(\"No keyframes extracted\")\n",
    "        \n",
    "    except Exception as e:\n",
    "        results['errors'].append(f\"Unexpected error: {str(e)}\")\n",
    "    \n",
    "    return results"
   ]
  },
  {
   "cell_type": "code",
   "execution_count": null,
   "metadata": {},
   "outputs": [
    {
     "name": "stdout",
     "output_type": "stream",
     "text": [
      "Processing 31 videos with 4 workers...\n",
      "\n"
     ]
    },
    {
     "name": "stderr",
     "output_type": "stream",
     "text": [
      "Processing videos:   0%|          | 0/31 [00:00<?, ?it/s]"
     ]
    }
   ],
   "source": [
    "# Process all videos in parallel\n",
    "print(f\"Processing {len(video_list)} videos with {MAX_WORKERS} workers...\\n\")\n",
    "\n",
    "success_count = 0\n",
    "error_count = 0\n",
    "all_results = []\n",
    "\n",
    "with ThreadPoolExecutor(max_workers=MAX_WORKERS) as executor:\n",
    "    # Submit all jobs\n",
    "    futures = {executor.submit(process_single_video, video): video for video in video_list}\n",
    "    \n",
    "    # Process results as they complete\n",
    "    for future in tqdm(as_completed(futures), total=len(futures), desc=\"Processing videos\"):\n",
    "        video_path = futures[future]\n",
    "        try:\n",
    "            result = future.result()\n",
    "            all_results.append(result)\n",
    "            \n",
    "            if (result['downsample_success'] and \n",
    "                result['scene_detection_success'] and \n",
    "                result['keyframe_extraction_success']):\n",
    "                success_count += 1\n",
    "                print(f\"✅ {result['video']}: {result.get('keyframes_extracted', 0)} keyframes\")\n",
    "            else:\n",
    "                error_count += 1\n",
    "                print(f\"❌ {result['video']}: {', '.join(result['errors'])}\")\n",
    "                \n",
    "        except Exception as e:\n",
    "            error_count += 1\n",
    "            print(f\"❌ {os.path.basename(video_path)}: Unexpected error: {str(e)}\")\n",
    "\n",
    "print(f\"\\n📊 Processing Summary:\")\n",
    "print(f\"✅ Successfully processed: {success_count} videos\")\n",
    "print(f\"❌ Failed: {error_count} videos\")\n",
    "print(f\"📁 Total videos: {len(video_list)}\")"
   ]
  },
  {
   "cell_type": "code",
   "execution_count": null,
   "metadata": {},
   "outputs": [],
   "source": [
    "# Generate detailed report\n",
    "print(\"\\n📋 Detailed Error Report:\")\n",
    "print(\"=\" * 50)\n",
    "\n",
    "for result in all_results:\n",
    "    if result['errors']:\n",
    "        print(f\"\\n❌ {result['video']}:\")\n",
    "        for error in result['errors']:\n",
    "            print(f\"   - {error}\")\n",
    "        print(f\"   Status: Downsample={result['downsample_success']}, \"\n",
    "              f\"Scenes={result['scene_detection_success']}, \"\n",
    "              f\"Keyframes={result['keyframe_extraction_success']}\")\n",
    "\n",
    "print(f\"\\n\\n📈 Processing Statistics:\")\n",
    "print(f\"Downsampling success rate: {sum(1 for r in all_results if r['downsample_success']) / len(all_results) * 100:.1f}%\")\n",
    "print(f\"Scene detection success rate: {sum(1 for r in all_results if r['scene_detection_success']) / len(all_results) * 100:.1f}%\")\n",
    "print(f\"Keyframe extraction success rate: {sum(1 for r in all_results if r['keyframe_extraction_success']) / len(all_results) * 100:.1f}%\")\n",
    "\n",
    "total_keyframes = sum(r.get('keyframes_extracted', 0) for r in all_results)\n",
    "print(f\"Total keyframes extracted: {total_keyframes}\")"
   ]
  }
 ],
 "metadata": {
  "kernelspec": {
   "display_name": "Python 3",
   "language": "python",
   "name": "python3"
  },
  "language_info": {
   "codemirror_mode": {
    "name": "ipython",
    "version": 3
   },
   "file_extension": ".py",
   "mimetype": "text/x-python",
   "name": "python",
   "nbconvert_exporter": "python",
   "pygments_lexer": "ipython3",
   "version": "3.8.0"
  }
 },
 "nbformat": 4,
 "nbformat_minor": 4
}
