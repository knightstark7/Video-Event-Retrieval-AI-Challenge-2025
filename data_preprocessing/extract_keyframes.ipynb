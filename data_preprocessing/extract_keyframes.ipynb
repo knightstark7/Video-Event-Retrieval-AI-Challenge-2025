{
 "cells": [
  {
   "cell_type": "code",
   "execution_count": null,
   "id": "08045901",
   "metadata": {},
   "outputs": [],
   "source": [
    "import os\n",
    "import cv2\n",
    "import pandas as pd\n",
    "import glob\n",
    "from concurrent.futures import ThreadPoolExecutor, as_completed\n",
    "from cfg import DOWNLOAD_DIR, SCENE_DIR, KEYFRAME_DIR\n",
    "from tqdm import tqdm"
   ]
  },
  {
   "cell_type": "code",
   "execution_count": 23,
   "id": "c467883d",
   "metadata": {},
   "outputs": [],
   "source": [
    "# Paths\n",
    "os.makedirs(KEYFRAME_DIR, exist_ok=True)"
   ]
  },
  {
   "cell_type": "code",
   "execution_count": 24,
   "id": "84c899a9",
   "metadata": {},
   "outputs": [
    {
     "name": "stdout",
     "output_type": "stream",
     "text": [
      "[INFO] Found 169 videos to process.\n"
     ]
    }
   ],
   "source": [
    "# Recursively find all videos\n",
    "videos = glob.glob(os.path.join(DOWNLOAD_DIR, '**', '*.mp4'))\n",
    "print(f\"[INFO] Found {len(videos)} videos to process.\")"
   ]
  },
  {
   "cell_type": "code",
   "execution_count": null,
   "id": "27bea9d1",
   "metadata": {},
   "outputs": [
    {
     "name": "stdout",
     "output_type": "stream",
     "text": [
      "[DONE] /mnt/d/AI Challenge/Data/video/L21/L21_V005.mp4 processed.\n",
      "[DONE] /mnt/d/AI Challenge/Data/video/L21/L21_V003.mp4 processed.\n",
      "[DONE] /mnt/d/AI Challenge/Data/video/L21/L21_V002.mp4 processed.\n",
      "[DONE] /mnt/d/AI Challenge/Data/video/L21/L21_V001.mp4 processed.\n",
      "[DONE] /mnt/d/AI Challenge/Data/video/L21/L21_V007.mp4 processed.\n",
      "[DONE] /mnt/d/AI Challenge/Data/video/L21/L21_V006.mp4 processed.\n",
      "[DONE] /mnt/d/AI Challenge/Data/video/L21/L21_V009.mp4 processed.\n",
      "[DONE] /mnt/d/AI Challenge/Data/video/L21/L21_V008.mp4 processed.\n",
      "[DONE] /mnt/d/AI Challenge/Data/video/L21/L21_V010.mp4 processed.\n",
      "[DONE] /mnt/d/AI Challenge/Data/video/L21/L21_V011.mp4 processed.\n",
      "[DONE] /mnt/d/AI Challenge/Data/video/L21/L21_V012.mp4 processed.\n",
      "[DONE] /mnt/d/AI Challenge/Data/video/L21/L21_V013.mp4 processed.\n",
      "[DONE] /mnt/d/AI Challenge/Data/video/L21/L21_V014.mp4 processed.\n",
      "[DONE] /mnt/d/AI Challenge/Data/video/L21/L21_V015.mp4 processed.\n",
      "[DONE] /mnt/d/AI Challenge/Data/video/L21/L21_V016.mp4 processed.\n",
      "[DONE] /mnt/d/AI Challenge/Data/video/L21/L21_V017.mp4 processed.\n",
      "[DONE] /mnt/d/AI Challenge/Data/video/L21/L21_V018.mp4 processed.\n",
      "[DONE] /mnt/d/AI Challenge/Data/video/L21/L21_V022.mp4 processed.\n"
     ]
    },
    {
     "ename": "KeyboardInterrupt",
     "evalue": "",
     "output_type": "error",
     "traceback": [
      "\u001b[31m---------------------------------------------------------------------------\u001b[39m",
      "\u001b[31mNameError\u001b[39m                                 Traceback (most recent call last)",
      "\u001b[36mCell\u001b[39m\u001b[36m \u001b[39m\u001b[32mIn[25]\u001b[39m\u001b[32m, line 30\u001b[39m\n\u001b[32m     29\u001b[39m futures = [executor.submit(process_video, v) \u001b[38;5;28;01mfor\u001b[39;00m v \u001b[38;5;129;01min\u001b[39;00m videos]\n\u001b[32m---> \u001b[39m\u001b[32m30\u001b[39m \u001b[38;5;28;01mfor\u001b[39;00m _ \u001b[38;5;129;01min\u001b[39;00m \u001b[43mtqdm\u001b[49m(as_completed(futures), total=\u001b[38;5;28mlen\u001b[39m(futures), desc=\u001b[33m\"\u001b[39m\u001b[33mProcessing videos\u001b[39m\u001b[33m\"\u001b[39m):\n\u001b[32m     31\u001b[39m     _.result()\n",
      "\u001b[31mNameError\u001b[39m: name 'tqdm' is not defined",
      "\nDuring handling of the above exception, another exception occurred:\n",
      "\u001b[31mKeyboardInterrupt\u001b[39m                         Traceback (most recent call last)",
      "\u001b[36mCell\u001b[39m\u001b[36m \u001b[39m\u001b[32mIn[25]\u001b[39m\u001b[32m, line 28\u001b[39m\n\u001b[32m     26\u001b[39m \u001b[38;5;66;03m# Process in parallel\u001b[39;00m\n\u001b[32m     27\u001b[39m max_workers = \u001b[32m4\u001b[39m\n\u001b[32m---> \u001b[39m\u001b[32m28\u001b[39m \u001b[38;5;28;43;01mwith\u001b[39;49;00m\u001b[43m \u001b[49m\u001b[43mThreadPoolExecutor\u001b[49m\u001b[43m(\u001b[49m\u001b[43mmax_workers\u001b[49m\u001b[43m=\u001b[49m\u001b[43mmax_workers\u001b[49m\u001b[43m)\u001b[49m\u001b[43m \u001b[49m\u001b[38;5;28;43;01mas\u001b[39;49;00m\u001b[43m \u001b[49m\u001b[43mexecutor\u001b[49m\u001b[43m:\u001b[49m\n\u001b[32m     29\u001b[39m \u001b[43m    \u001b[49m\u001b[43mfutures\u001b[49m\u001b[43m \u001b[49m\u001b[43m=\u001b[49m\u001b[43m \u001b[49m\u001b[43m[\u001b[49m\u001b[43mexecutor\u001b[49m\u001b[43m.\u001b[49m\u001b[43msubmit\u001b[49m\u001b[43m(\u001b[49m\u001b[43mprocess_video\u001b[49m\u001b[43m,\u001b[49m\u001b[43m \u001b[49m\u001b[43mv\u001b[49m\u001b[43m)\u001b[49m\u001b[43m \u001b[49m\u001b[38;5;28;43;01mfor\u001b[39;49;00m\u001b[43m \u001b[49m\u001b[43mv\u001b[49m\u001b[43m \u001b[49m\u001b[38;5;129;43;01min\u001b[39;49;00m\u001b[43m \u001b[49m\u001b[43mvideos\u001b[49m\u001b[43m]\u001b[49m\n\u001b[32m     30\u001b[39m \u001b[43m    \u001b[49m\u001b[38;5;28;43;01mfor\u001b[39;49;00m\u001b[43m \u001b[49m\u001b[43m_\u001b[49m\u001b[43m \u001b[49m\u001b[38;5;129;43;01min\u001b[39;49;00m\u001b[43m \u001b[49m\u001b[43mtqdm\u001b[49m\u001b[43m(\u001b[49m\u001b[43mas_completed\u001b[49m\u001b[43m(\u001b[49m\u001b[43mfutures\u001b[49m\u001b[43m)\u001b[49m\u001b[43m,\u001b[49m\u001b[43m \u001b[49m\u001b[43mtotal\u001b[49m\u001b[43m=\u001b[49m\u001b[38;5;28;43mlen\u001b[39;49m\u001b[43m(\u001b[49m\u001b[43mfutures\u001b[49m\u001b[43m)\u001b[49m\u001b[43m,\u001b[49m\u001b[43m \u001b[49m\u001b[43mdesc\u001b[49m\u001b[43m=\u001b[49m\u001b[33;43m\"\u001b[39;49m\u001b[33;43mProcessing videos\u001b[39;49m\u001b[33;43m\"\u001b[39;49m\u001b[43m)\u001b[49m\u001b[43m:\u001b[49m\n",
      "\u001b[36mFile \u001b[39m\u001b[32m~/miniconda3/lib/python3.12/concurrent/futures/_base.py:647\u001b[39m, in \u001b[36mExecutor.__exit__\u001b[39m\u001b[34m(self, exc_type, exc_val, exc_tb)\u001b[39m\n\u001b[32m    646\u001b[39m \u001b[38;5;28;01mdef\u001b[39;00m\u001b[38;5;250m \u001b[39m\u001b[34m__exit__\u001b[39m(\u001b[38;5;28mself\u001b[39m, exc_type, exc_val, exc_tb):\n\u001b[32m--> \u001b[39m\u001b[32m647\u001b[39m     \u001b[38;5;28;43mself\u001b[39;49m\u001b[43m.\u001b[49m\u001b[43mshutdown\u001b[49m\u001b[43m(\u001b[49m\u001b[43mwait\u001b[49m\u001b[43m=\u001b[49m\u001b[38;5;28;43;01mTrue\u001b[39;49;00m\u001b[43m)\u001b[49m\n\u001b[32m    648\u001b[39m     \u001b[38;5;28;01mreturn\u001b[39;00m \u001b[38;5;28;01mFalse\u001b[39;00m\n",
      "\u001b[36mFile \u001b[39m\u001b[32m~/miniconda3/lib/python3.12/concurrent/futures/thread.py:238\u001b[39m, in \u001b[36mThreadPoolExecutor.shutdown\u001b[39m\u001b[34m(self, wait, cancel_futures)\u001b[39m\n\u001b[32m    236\u001b[39m \u001b[38;5;28;01mif\u001b[39;00m wait:\n\u001b[32m    237\u001b[39m     \u001b[38;5;28;01mfor\u001b[39;00m t \u001b[38;5;129;01min\u001b[39;00m \u001b[38;5;28mself\u001b[39m._threads:\n\u001b[32m--> \u001b[39m\u001b[32m238\u001b[39m         \u001b[43mt\u001b[49m\u001b[43m.\u001b[49m\u001b[43mjoin\u001b[49m\u001b[43m(\u001b[49m\u001b[43m)\u001b[49m\n",
      "\u001b[36mFile \u001b[39m\u001b[32m~/miniconda3/lib/python3.12/threading.py:1147\u001b[39m, in \u001b[36mThread.join\u001b[39m\u001b[34m(self, timeout)\u001b[39m\n\u001b[32m   1144\u001b[39m     \u001b[38;5;28;01mraise\u001b[39;00m \u001b[38;5;167;01mRuntimeError\u001b[39;00m(\u001b[33m\"\u001b[39m\u001b[33mcannot join current thread\u001b[39m\u001b[33m\"\u001b[39m)\n\u001b[32m   1146\u001b[39m \u001b[38;5;28;01mif\u001b[39;00m timeout \u001b[38;5;129;01mis\u001b[39;00m \u001b[38;5;28;01mNone\u001b[39;00m:\n\u001b[32m-> \u001b[39m\u001b[32m1147\u001b[39m     \u001b[38;5;28;43mself\u001b[39;49m\u001b[43m.\u001b[49m\u001b[43m_wait_for_tstate_lock\u001b[49m\u001b[43m(\u001b[49m\u001b[43m)\u001b[49m\n\u001b[32m   1148\u001b[39m \u001b[38;5;28;01melse\u001b[39;00m:\n\u001b[32m   1149\u001b[39m     \u001b[38;5;66;03m# the behavior of a negative timeout isn't documented, but\u001b[39;00m\n\u001b[32m   1150\u001b[39m     \u001b[38;5;66;03m# historically .join(timeout=x) for x<0 has acted as if timeout=0\u001b[39;00m\n\u001b[32m   1151\u001b[39m     \u001b[38;5;28mself\u001b[39m._wait_for_tstate_lock(timeout=\u001b[38;5;28mmax\u001b[39m(timeout, \u001b[32m0\u001b[39m))\n",
      "\u001b[36mFile \u001b[39m\u001b[32m~/miniconda3/lib/python3.12/threading.py:1167\u001b[39m, in \u001b[36mThread._wait_for_tstate_lock\u001b[39m\u001b[34m(self, block, timeout)\u001b[39m\n\u001b[32m   1164\u001b[39m     \u001b[38;5;28;01mreturn\u001b[39;00m\n\u001b[32m   1166\u001b[39m \u001b[38;5;28;01mtry\u001b[39;00m:\n\u001b[32m-> \u001b[39m\u001b[32m1167\u001b[39m     \u001b[38;5;28;01mif\u001b[39;00m \u001b[43mlock\u001b[49m\u001b[43m.\u001b[49m\u001b[43macquire\u001b[49m\u001b[43m(\u001b[49m\u001b[43mblock\u001b[49m\u001b[43m,\u001b[49m\u001b[43m \u001b[49m\u001b[43mtimeout\u001b[49m\u001b[43m)\u001b[49m:\n\u001b[32m   1168\u001b[39m         lock.release()\n\u001b[32m   1169\u001b[39m         \u001b[38;5;28mself\u001b[39m._stop()\n",
      "\u001b[31mKeyboardInterrupt\u001b[39m: "
     ]
    },
    {
     "name": "stdout",
     "output_type": "stream",
     "text": [
      "[DONE] /mnt/d/AI Challenge/Data/video/L21/L21_V019.mp4 processed.\n",
      "[DONE] /mnt/d/AI Challenge/Data/video/L21/L21_V021.mp4 processed.\n"
     ]
    }
   ],
   "source": [
    "def process_video(video_path):\n",
    "    base_name = os.path.splitext(os.path.basename(video_path))[0]\n",
    "    batchh = base_name.split(\"_\")[0]\n",
    "    scene_path = os.path.join(SCENE_DIR, f\"{batchh}/{base_name}.csv\")\n",
    "    scene_list = pd.read_csv(scene_path)\n",
    "    \n",
    "    os.makedirs(os.path.join(KEYFRAME_DIR, batchh, base_name), exist_ok=True)\n",
    "    \n",
    "    # check if existed frame number equal to scene_list length\n",
    "    if len(glob.glob(os.path.join(KEYFRAME_DIR, batchh, base_name, f\"{base_name}_*.jpg\"))) == len(scene_list):\n",
    "        print(f\"[SKIP] Keyframes for {video_path} extracted fully.\")\n",
    "        return\n",
    "    \n",
    "    # Extract keyframes\n",
    "    cap = cv2.VideoCapture(video_path)\n",
    "    for i, row in scene_list.iterrows():\n",
    "        median_frame = int(row['median_frame'])\n",
    "        \n",
    "        cap.set(cv2.CAP_PROP_POS_FRAMES, median_frame)\n",
    "        ret, frame = cap.read()\n",
    "        if ret:\n",
    "            keyframe_path = os.path.join(KEYFRAME_DIR, f\"{batchh}/{base_name}/{base_name}_{median_frame}.jpg\")\n",
    "            cv2.imwrite(keyframe_path, frame)\n",
    "        else:\n",
    "            print(f\"[WARNING] Could not read frame {median_frame} in {base_name}\")\n",
    "\n",
    "    cap.release()\n",
    "    print(f\"[DONE] {video_path} processed.\")\n",
    "\n",
    "\n",
    "# Process in parallel\n",
    "max_workers = 4\n",
    "with ThreadPoolExecutor(max_workers=max_workers) as executor:\n",
    "    futures = [executor.submit(process_video, v) for v in videos]\n",
    "    for _ in tqdm(as_completed(futures), total=len(futures), desc=\"Processing videos\"):\n",
    "        _.result()"
   ]
  }
 ],
 "metadata": {
  "kernelspec": {
   "display_name": ".venv (3.12.2)",
   "language": "python",
   "name": "python3"
  },
  "language_info": {
   "codemirror_mode": {
    "name": "ipython",
    "version": 3
   },
   "file_extension": ".py",
   "mimetype": "text/x-python",
   "name": "python",
   "nbconvert_exporter": "python",
   "pygments_lexer": "ipython3",
   "version": "3.12.2"
  }
 },
 "nbformat": 4,
 "nbformat_minor": 5
}
