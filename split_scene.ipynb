{
 "cells": [
  {
   "cell_type": "code",
   "execution_count": 1,
   "id": "e6764bfb",
   "metadata": {},
   "outputs": [],
   "source": [
    "import numpy as np\n",
    "import pandas as pd\n",
    "from tqdm import tqdm\n",
    "import os\n",
    "import glob\n",
    "import json\n",
    "from scenedetect import detect, AdaptiveDetector, split_video_ffmpeg\n",
    "from concurrent.futures import ThreadPoolExecutor, as_completed"
   ]
  },
  {
   "cell_type": "code",
   "execution_count": 2,
   "id": "87cb0a00",
   "metadata": {},
   "outputs": [],
   "source": [
    "DOWNLOAD_FOLDER = '/mnt/d/AI Challenge/Data/video'\n",
    "SCENE_FOLDER = '/mnt/d/AI Challenge/Data/scene'\n",
    "os.makedirs(SCENE_FOLDER, exist_ok=True)\n",
    "video_list = glob.glob(os.path.join(DOWNLOAD_FOLDER, '*/*.mp4'))\n",
    "len(video_list)\n",
    "\n",
    "video_list = video_list[:10]  # Limit to first 10 videos for testing"
   ]
  },
  {
   "cell_type": "code",
   "execution_count": 3,
   "id": "c4f38a65",
   "metadata": {},
   "outputs": [
    {
     "name": "stdout",
     "output_type": "stream",
     "text": [
      "Processing: /mnt/d/AI Challenge/Data/video/L21/L21_V001.mp4 (1/10)\n"
     ]
    },
    {
     "name": "stderr",
     "output_type": "stream",
     "text": [
      "  Detected: 373 | Progress: 100%|██████████| 37849/37849 [00:23<00:00, 1639.50frames/s]\n"
     ]
    },
    {
     "name": "stdout",
     "output_type": "stream",
     "text": [
      "Saved: /mnt/d/AI Challenge/Data/scene/L21/L21_V001.csv\n",
      "Processing: /mnt/d/AI Challenge/Data/video/L21/L21_V002.mp4 (2/10)\n"
     ]
    },
    {
     "name": "stderr",
     "output_type": "stream",
     "text": [
      "  Detected: 309 | Progress: 100%|██████████| 31720/31720 [00:23<00:00, 1322.96frames/s]\n"
     ]
    },
    {
     "name": "stdout",
     "output_type": "stream",
     "text": [
      "Saved: /mnt/d/AI Challenge/Data/scene/L21/L21_V002.csv\n",
      "Processing: /mnt/d/AI Challenge/Data/video/L21/L21_V003.mp4 (3/10)\n"
     ]
    },
    {
     "name": "stderr",
     "output_type": "stream",
     "text": [
      "  Detected: 270 | Progress: 100%|██████████| 29946/29946 [00:18<00:00, 1579.51frames/s]\n"
     ]
    },
    {
     "name": "stdout",
     "output_type": "stream",
     "text": [
      "Saved: /mnt/d/AI Challenge/Data/scene/L21/L21_V003.csv\n",
      "Processing: /mnt/d/AI Challenge/Data/video/L21/L21_V005.mp4 (4/10)\n"
     ]
    },
    {
     "name": "stderr",
     "output_type": "stream",
     "text": [
      "  Detected: 253 | Progress: 100%|██████████| 28294/28294 [00:19<00:00, 1424.81frames/s]\n"
     ]
    },
    {
     "name": "stdout",
     "output_type": "stream",
     "text": [
      "Saved: /mnt/d/AI Challenge/Data/scene/L21/L21_V005.csv\n",
      "Processing: /mnt/d/AI Challenge/Data/video/L21/L21_V006.mp4 (5/10)\n"
     ]
    },
    {
     "name": "stderr",
     "output_type": "stream",
     "text": [
      "  Detected: 283 | Progress: 100%|██████████| 31064/31064 [00:18<00:00, 1643.74frames/s]\n"
     ]
    },
    {
     "name": "stdout",
     "output_type": "stream",
     "text": [
      "Saved: /mnt/d/AI Challenge/Data/scene/L21/L21_V006.csv\n",
      "Processing: /mnt/d/AI Challenge/Data/video/L21/L21_V007.mp4 (6/10)\n"
     ]
    },
    {
     "name": "stderr",
     "output_type": "stream",
     "text": [
      "  Detected: 217 | Progress: 100%|██████████| 25254/25254 [00:19<00:00, 1320.34frames/s]\n"
     ]
    },
    {
     "name": "stdout",
     "output_type": "stream",
     "text": [
      "Saved: /mnt/d/AI Challenge/Data/scene/L21/L21_V007.csv\n",
      "Processing: /mnt/d/AI Challenge/Data/video/L21/L21_V008.mp4 (7/10)\n"
     ]
    },
    {
     "name": "stderr",
     "output_type": "stream",
     "text": [
      "  Detected: 395 | Progress: 100%|██████████| 33726/33726 [00:23<00:00, 1447.49frames/s]\n"
     ]
    },
    {
     "name": "stdout",
     "output_type": "stream",
     "text": [
      "Saved: /mnt/d/AI Challenge/Data/scene/L21/L21_V008.csv\n",
      "Processing: /mnt/d/AI Challenge/Data/video/L21/L21_V009.mp4 (8/10)\n"
     ]
    },
    {
     "name": "stderr",
     "output_type": "stream",
     "text": [
      "  Detected: 304 | Progress: 100%|██████████| 28988/28988 [00:18<00:00, 1573.32frames/s]\n"
     ]
    },
    {
     "name": "stdout",
     "output_type": "stream",
     "text": [
      "Saved: /mnt/d/AI Challenge/Data/scene/L21/L21_V009.csv\n",
      "Processing: /mnt/d/AI Challenge/Data/video/L21/L21_V010.mp4 (9/10)\n"
     ]
    },
    {
     "name": "stderr",
     "output_type": "stream",
     "text": [
      "  Detected: 287 | Progress: 100%|██████████| 28311/28311 [00:17<00:00, 1577.65frames/s]\n"
     ]
    },
    {
     "name": "stdout",
     "output_type": "stream",
     "text": [
      "Saved: /mnt/d/AI Challenge/Data/scene/L21/L21_V010.csv\n",
      "Processing: /mnt/d/AI Challenge/Data/video/L21/L21_V011.mp4 (10/10)\n"
     ]
    },
    {
     "name": "stderr",
     "output_type": "stream",
     "text": [
      "  Detected: 282 | Progress: 100%|██████████| 25122/25122 [00:15<00:00, 1668.35frames/s]\n"
     ]
    },
    {
     "name": "stdout",
     "output_type": "stream",
     "text": [
      "Saved: /mnt/d/AI Challenge/Data/scene/L21/L21_V011.csv\n"
     ]
    }
   ],
   "source": [
    "import os\n",
    "import pandas as pd\n",
    "from scenedetect import detect, AdaptiveDetector\n",
    "from tqdm import tqdm\n",
    "\n",
    "for i, video_path in enumerate(video_list, 0):\n",
    "    print(f\"Processing: {video_path} ({i+1}/{len(video_list)})\")\n",
    "    name = os.path.splitext(os.path.basename(video_path))[0]\n",
    "    batchh = name.split(\"_\")[0]\n",
    "    out_path = os.path.join(SCENE_FOLDER, batchh, name + \".csv\")\n",
    "\n",
    "    if os.path.exists(out_path):\n",
    "        print(f\"Already processed: {out_path}\")\n",
    "        continue\n",
    "\n",
    "    try:\n",
    "        scene_list = detect(video_path, AdaptiveDetector(), show_progress=True)\n",
    "\n",
    "        df = pd.DataFrame(\n",
    "            [\n",
    "                {\n",
    "                    \"start_frame\": start.get_frames(),\n",
    "                    \"start_time\": round(start.get_seconds(), 2),\n",
    "                    \"end_frame\": end.get_frames(),\n",
    "                    \"end_time\": round(end.get_seconds(), 2),\n",
    "                    \"median_frame\": (start.get_frames() + end.get_frames()) // 2,\n",
    "                    \"median_time\": round((start.get_seconds() + end.get_seconds()) / 2, 2),\n",
    "                }\n",
    "                for start, end in scene_list\n",
    "            ],\n",
    "            columns=[\"start_frame\", \"start_time\", \"end_frame\", \"end_time\", \"median_frame\", \"median_time\"]\n",
    "        )\n",
    "\n",
    "        os.makedirs(os.path.dirname(out_path), exist_ok=True)\n",
    "        df.to_csv(out_path, index=False)\n",
    "        print(f\"Saved: {out_path}\")\n",
    "\n",
    "    except Exception as e:\n",
    "        print(f\"Error processing {video_path}: {e}\")\n"
   ]
  }
 ],
 "metadata": {
  "kernelspec": {
   "display_name": ".venv (3.12.2)",
   "language": "python",
   "name": "python3"
  },
  "language_info": {
   "codemirror_mode": {
    "name": "ipython",
    "version": 3
   },
   "file_extension": ".py",
   "mimetype": "text/x-python",
   "name": "python",
   "nbconvert_exporter": "python",
   "pygments_lexer": "ipython3",
   "version": "3.12.2"
  }
 },
 "nbformat": 4,
 "nbformat_minor": 5
}
