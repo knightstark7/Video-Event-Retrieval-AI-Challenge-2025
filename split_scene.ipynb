{
 "cells": [
  {
   "cell_type": "code",
   "execution_count": null,
   "id": "e6764bfb",
   "metadata": {},
   "outputs": [],
   "source": [
    "import numpy as np\n",
    "import pandas as pd\n",
    "from tqdm import tqdm\n",
    "import os\n",
    "import glob\n",
    "import json\n",
    "from scenedetect import detect, AdaptiveDetector, split_video_ffmpeg\n",
    "from concurrent.futures import ThreadPoolExecutor, as_completed\n",
    "from configg import DOWNLOAD_DIR, SCENE_DIR"
   ]
  },
  {
   "cell_type": "code",
   "execution_count": null,
   "id": "87cb0a00",
   "metadata": {},
   "outputs": [
    {
     "data": {
      "text/plain": [
       "169"
      ]
     },
     "execution_count": 2,
     "metadata": {},
     "output_type": "execute_result"
    }
   ],
   "source": [
    "os.makedirs(SCENE_DIR, exist_ok=True)\n",
    "video_list = glob.glob(os.path.join(DOWNLOAD_DIR, '*/*.mp4'))\n",
    "len(video_list)"
   ]
  },
  {
   "cell_type": "code",
   "execution_count": 3,
   "id": "c4f38a65",
   "metadata": {},
   "outputs": [
    {
     "name": "stdout",
     "output_type": "stream",
     "text": [
      "Processing: /mnt/d/AI Challenge/Data/video/L21/L21_V001.mp4 (1/169)\n",
      "Already processed: /mnt/d/AI Challenge/Data/scene/L21/L21_V001.csv\n",
      "Processing: /mnt/d/AI Challenge/Data/video/L21/L21_V002.mp4 (2/169)\n",
      "Already processed: /mnt/d/AI Challenge/Data/scene/L21/L21_V002.csv\n",
      "Processing: /mnt/d/AI Challenge/Data/video/L21/L21_V003.mp4 (3/169)\n",
      "Already processed: /mnt/d/AI Challenge/Data/scene/L21/L21_V003.csv\n",
      "Processing: /mnt/d/AI Challenge/Data/video/L21/L21_V005.mp4 (4/169)\n",
      "Already processed: /mnt/d/AI Challenge/Data/scene/L21/L21_V005.csv\n",
      "Processing: /mnt/d/AI Challenge/Data/video/L21/L21_V006.mp4 (5/169)\n",
      "Already processed: /mnt/d/AI Challenge/Data/scene/L21/L21_V006.csv\n",
      "Processing: /mnt/d/AI Challenge/Data/video/L21/L21_V007.mp4 (6/169)\n",
      "Already processed: /mnt/d/AI Challenge/Data/scene/L21/L21_V007.csv\n",
      "Processing: /mnt/d/AI Challenge/Data/video/L21/L21_V008.mp4 (7/169)\n",
      "Already processed: /mnt/d/AI Challenge/Data/scene/L21/L21_V008.csv\n",
      "Processing: /mnt/d/AI Challenge/Data/video/L21/L21_V009.mp4 (8/169)\n",
      "Already processed: /mnt/d/AI Challenge/Data/scene/L21/L21_V009.csv\n",
      "Processing: /mnt/d/AI Challenge/Data/video/L21/L21_V010.mp4 (9/169)\n",
      "Already processed: /mnt/d/AI Challenge/Data/scene/L21/L21_V010.csv\n",
      "Processing: /mnt/d/AI Challenge/Data/video/L21/L21_V011.mp4 (10/169)\n",
      "Already processed: /mnt/d/AI Challenge/Data/scene/L21/L21_V011.csv\n",
      "Processing: /mnt/d/AI Challenge/Data/video/L21/L21_V012.mp4 (11/169)\n"
     ]
    },
    {
     "name": "stderr",
     "output_type": "stream",
     "text": [
      "  Detected: 0 | Progress:   0%|          | 0/27972 [00:00<?, ?frames/s]"
     ]
    },
    {
     "name": "stderr",
     "output_type": "stream",
     "text": [
      "  Detected: 252 | Progress: 100%|██████████| 27972/27972 [00:16<00:00, 1701.30frames/s]\n"
     ]
    },
    {
     "name": "stdout",
     "output_type": "stream",
     "text": [
      "Saved: /mnt/d/AI Challenge/Data/scene/L21/L21_V012.csv\n",
      "Processing: /mnt/d/AI Challenge/Data/video/L21/L21_V013.mp4 (12/169)\n"
     ]
    },
    {
     "name": "stderr",
     "output_type": "stream",
     "text": [
      "  Detected: 324 | Progress: 100%|██████████| 33805/33805 [00:19<00:00, 1760.02frames/s]\n"
     ]
    },
    {
     "name": "stdout",
     "output_type": "stream",
     "text": [
      "Saved: /mnt/d/AI Challenge/Data/scene/L21/L21_V013.csv\n",
      "Processing: /mnt/d/AI Challenge/Data/video/L21/L21_V014.mp4 (13/169)\n"
     ]
    },
    {
     "name": "stderr",
     "output_type": "stream",
     "text": [
      "  Detected: 316 | Progress: 100%|██████████| 33511/33511 [00:20<00:00, 1618.56frames/s]\n"
     ]
    },
    {
     "name": "stdout",
     "output_type": "stream",
     "text": [
      "Saved: /mnt/d/AI Challenge/Data/scene/L21/L21_V014.csv\n",
      "Processing: /mnt/d/AI Challenge/Data/video/L21/L21_V015.mp4 (14/169)\n"
     ]
    },
    {
     "name": "stderr",
     "output_type": "stream",
     "text": [
      "  Detected: 393 | Progress: 100%|██████████| 39117/39117 [00:29<00:00, 1346.08frames/s]\n"
     ]
    },
    {
     "name": "stdout",
     "output_type": "stream",
     "text": [
      "Saved: /mnt/d/AI Challenge/Data/scene/L21/L21_V015.csv\n",
      "Processing: /mnt/d/AI Challenge/Data/video/L21/L21_V016.mp4 (15/169)\n"
     ]
    },
    {
     "name": "stderr",
     "output_type": "stream",
     "text": [
      "  Detected: 303 | Progress: 100%|██████████| 31633/31633 [00:21<00:00, 1444.73frames/s]\n"
     ]
    },
    {
     "name": "stdout",
     "output_type": "stream",
     "text": [
      "Saved: /mnt/d/AI Challenge/Data/scene/L21/L21_V016.csv\n",
      "Processing: /mnt/d/AI Challenge/Data/video/L21/L21_V017.mp4 (16/169)\n"
     ]
    },
    {
     "name": "stderr",
     "output_type": "stream",
     "text": [
      "  Detected: 227 | Progress: 100%|██████████| 23751/23751 [00:14<00:00, 1596.43frames/s]\n"
     ]
    },
    {
     "name": "stdout",
     "output_type": "stream",
     "text": [
      "Saved: /mnt/d/AI Challenge/Data/scene/L21/L21_V017.csv\n",
      "Processing: /mnt/d/AI Challenge/Data/video/L21/L21_V018.mp4 (17/169)\n"
     ]
    },
    {
     "name": "stderr",
     "output_type": "stream",
     "text": [
      "  Detected: 353 | Progress: 100%|██████████| 28599/28599 [00:19<00:00, 1448.82frames/s]\n"
     ]
    },
    {
     "name": "stdout",
     "output_type": "stream",
     "text": [
      "Saved: /mnt/d/AI Challenge/Data/scene/L21/L21_V018.csv\n",
      "Processing: /mnt/d/AI Challenge/Data/video/L21/L21_V019.mp4 (18/169)\n"
     ]
    },
    {
     "name": "stderr",
     "output_type": "stream",
     "text": [
      "  Detected: 255 | Progress: 100%|██████████| 33027/33027 [00:22<00:00, 1475.92frames/s]\n"
     ]
    },
    {
     "name": "stdout",
     "output_type": "stream",
     "text": [
      "Saved: /mnt/d/AI Challenge/Data/scene/L21/L21_V019.csv\n",
      "Processing: /mnt/d/AI Challenge/Data/video/L21/L21_V021.mp4 (19/169)\n"
     ]
    },
    {
     "name": "stderr",
     "output_type": "stream",
     "text": [
      "  Detected: 252 | Progress: 100%|██████████| 30906/30906 [00:19<00:00, 1580.17frames/s]\n"
     ]
    },
    {
     "name": "stdout",
     "output_type": "stream",
     "text": [
      "Saved: /mnt/d/AI Challenge/Data/scene/L21/L21_V021.csv\n",
      "Processing: /mnt/d/AI Challenge/Data/video/L21/L21_V022.mp4 (20/169)\n"
     ]
    },
    {
     "name": "stderr",
     "output_type": "stream",
     "text": [
      "  Detected: 203 | Progress: 100%|██████████| 27719/27719 [00:15<00:00, 1812.13frames/s]\n"
     ]
    },
    {
     "name": "stdout",
     "output_type": "stream",
     "text": [
      "Saved: /mnt/d/AI Challenge/Data/scene/L21/L21_V022.csv\n",
      "Processing: /mnt/d/AI Challenge/Data/video/L21/L21_V023.mp4 (21/169)\n"
     ]
    },
    {
     "name": "stderr",
     "output_type": "stream",
     "text": [
      "  Detected: 309 | Progress: 100%|██████████| 35391/35391 [00:22<00:00, 1576.61frames/s]\n"
     ]
    },
    {
     "name": "stdout",
     "output_type": "stream",
     "text": [
      "Saved: /mnt/d/AI Challenge/Data/scene/L21/L21_V023.csv\n",
      "Processing: /mnt/d/AI Challenge/Data/video/L21/L21_V024.mp4 (22/169)\n"
     ]
    },
    {
     "name": "stderr",
     "output_type": "stream",
     "text": [
      "  Detected: 330 | Progress: 100%|██████████| 30045/30045 [00:18<00:00, 1598.20frames/s]\n"
     ]
    },
    {
     "name": "stdout",
     "output_type": "stream",
     "text": [
      "Saved: /mnt/d/AI Challenge/Data/scene/L21/L21_V024.csv\n",
      "Processing: /mnt/d/AI Challenge/Data/video/L21/L21_V025.mp4 (23/169)\n"
     ]
    },
    {
     "name": "stderr",
     "output_type": "stream",
     "text": [
      "  Detected: 309 | Progress: 100%|██████████| 29495/29495 [00:16<00:00, 1756.73frames/s]\n"
     ]
    },
    {
     "name": "stdout",
     "output_type": "stream",
     "text": [
      "Saved: /mnt/d/AI Challenge/Data/scene/L21/L21_V025.csv\n",
      "Processing: /mnt/d/AI Challenge/Data/video/L21/L21_V026.mp4 (24/169)\n"
     ]
    },
    {
     "name": "stderr",
     "output_type": "stream",
     "text": [
      "  Detected: 362 | Progress: 100%|██████████| 34546/34546 [00:21<00:00, 1609.75frames/s]\n"
     ]
    },
    {
     "name": "stdout",
     "output_type": "stream",
     "text": [
      "Saved: /mnt/d/AI Challenge/Data/scene/L21/L21_V026.csv\n",
      "Processing: /mnt/d/AI Challenge/Data/video/L21/L21_V027.mp4 (25/169)\n"
     ]
    },
    {
     "name": "stderr",
     "output_type": "stream",
     "text": [
      "  Detected: 328 | Progress: 100%|██████████| 34804/34804 [00:17<00:00, 2002.43frames/s]\n"
     ]
    },
    {
     "name": "stdout",
     "output_type": "stream",
     "text": [
      "Saved: /mnt/d/AI Challenge/Data/scene/L21/L21_V027.csv\n",
      "Processing: /mnt/d/AI Challenge/Data/video/L21/L21_V028.mp4 (26/169)\n"
     ]
    },
    {
     "name": "stderr",
     "output_type": "stream",
     "text": [
      "  Detected: 258 | Progress: 100%|██████████| 30576/30576 [00:17<00:00, 1790.04frames/s]\n"
     ]
    },
    {
     "name": "stdout",
     "output_type": "stream",
     "text": [
      "Saved: /mnt/d/AI Challenge/Data/scene/L21/L21_V028.csv\n",
      "Processing: /mnt/d/AI Challenge/Data/video/L21/L21_V029.mp4 (27/169)\n"
     ]
    },
    {
     "name": "stderr",
     "output_type": "stream",
     "text": [
      "  Detected: 298 | Progress: 100%|██████████| 34689/34689 [00:18<00:00, 1911.38frames/s]\n"
     ]
    },
    {
     "name": "stdout",
     "output_type": "stream",
     "text": [
      "Saved: /mnt/d/AI Challenge/Data/scene/L21/L21_V029.csv\n",
      "Processing: /mnt/d/AI Challenge/Data/video/L21/L21_V030.mp4 (28/169)\n"
     ]
    },
    {
     "name": "stderr",
     "output_type": "stream",
     "text": [
      "  Detected: 286 | Progress: 100%|██████████| 31801/31801 [00:22<00:00, 1429.06frames/s]\n"
     ]
    },
    {
     "name": "stdout",
     "output_type": "stream",
     "text": [
      "Saved: /mnt/d/AI Challenge/Data/scene/L21/L21_V030.csv\n",
      "Processing: /mnt/d/AI Challenge/Data/video/L21/L21_V031.mp4 (29/169)\n"
     ]
    },
    {
     "name": "stderr",
     "output_type": "stream",
     "text": [
      "  Detected: 323 | Progress: 100%|██████████| 27528/27528 [00:15<00:00, 1724.37frames/s]\n"
     ]
    },
    {
     "name": "stdout",
     "output_type": "stream",
     "text": [
      "Saved: /mnt/d/AI Challenge/Data/scene/L21/L21_V031.csv\n",
      "Processing: /mnt/d/AI Challenge/Data/video/L22/L22_V001.mp4 (30/169)\n"
     ]
    },
    {
     "name": "stderr",
     "output_type": "stream",
     "text": [
      "  Detected: 389 | Progress: 100%|██████████| 34901/34901 [00:20<00:00, 1695.84frames/s]\n"
     ]
    },
    {
     "name": "stdout",
     "output_type": "stream",
     "text": [
      "Saved: /mnt/d/AI Challenge/Data/scene/L22/L22_V001.csv\n",
      "Processing: /mnt/d/AI Challenge/Data/video/L22/L22_V002.mp4 (31/169)\n"
     ]
    },
    {
     "name": "stderr",
     "output_type": "stream",
     "text": [
      "  Detected: 306 | Progress: 100%|██████████| 29681/29681 [00:21<00:00, 1400.65frames/s]\n"
     ]
    },
    {
     "name": "stdout",
     "output_type": "stream",
     "text": [
      "Saved: /mnt/d/AI Challenge/Data/scene/L22/L22_V002.csv\n",
      "Processing: /mnt/d/AI Challenge/Data/video/L22/L22_V003.mp4 (32/169)\n"
     ]
    },
    {
     "name": "stderr",
     "output_type": "stream",
     "text": [
      "  Detected: 355 | Progress: 100%|██████████| 30626/30626 [00:18<00:00, 1626.24frames/s]\n"
     ]
    },
    {
     "name": "stdout",
     "output_type": "stream",
     "text": [
      "Saved: /mnt/d/AI Challenge/Data/scene/L22/L22_V003.csv\n",
      "Processing: /mnt/d/AI Challenge/Data/video/L22/L22_V004.mp4 (33/169)\n"
     ]
    },
    {
     "name": "stderr",
     "output_type": "stream",
     "text": [
      "  Detected: 422 | Progress: 100%|██████████| 39128/39128 [00:26<00:00, 1504.62frames/s]\n"
     ]
    },
    {
     "name": "stdout",
     "output_type": "stream",
     "text": [
      "Saved: /mnt/d/AI Challenge/Data/scene/L22/L22_V004.csv\n",
      "Processing: /mnt/d/AI Challenge/Data/video/L22/L22_V005.mp4 (34/169)\n"
     ]
    },
    {
     "name": "stderr",
     "output_type": "stream",
     "text": [
      "  Detected: 275 | Progress: 100%|██████████| 31218/31218 [00:26<00:00, 1160.82frames/s]\n"
     ]
    },
    {
     "name": "stdout",
     "output_type": "stream",
     "text": [
      "Saved: /mnt/d/AI Challenge/Data/scene/L22/L22_V005.csv\n",
      "Processing: /mnt/d/AI Challenge/Data/video/L22/L22_V006.mp4 (35/169)\n"
     ]
    },
    {
     "name": "stderr",
     "output_type": "stream",
     "text": [
      "  Detected: 383 | Progress: 100%|██████████| 38606/38606 [00:28<00:00, 1374.50frames/s]\n"
     ]
    },
    {
     "name": "stdout",
     "output_type": "stream",
     "text": [
      "Saved: /mnt/d/AI Challenge/Data/scene/L22/L22_V006.csv\n",
      "Processing: /mnt/d/AI Challenge/Data/video/L22/L22_V007.mp4 (36/169)\n"
     ]
    },
    {
     "name": "stderr",
     "output_type": "stream",
     "text": [
      "  Detected: 361 | Progress: 100%|██████████| 30032/30032 [00:18<00:00, 1587.59frames/s]\n"
     ]
    },
    {
     "name": "stdout",
     "output_type": "stream",
     "text": [
      "Saved: /mnt/d/AI Challenge/Data/scene/L22/L22_V007.csv\n",
      "Processing: /mnt/d/AI Challenge/Data/video/L22/L22_V008.mp4 (37/169)\n"
     ]
    },
    {
     "name": "stderr",
     "output_type": "stream",
     "text": [
      "  Detected: 301 | Progress: 100%|██████████| 27393/27393 [00:20<00:00, 1307.21frames/s]\n"
     ]
    },
    {
     "name": "stdout",
     "output_type": "stream",
     "text": [
      "Saved: /mnt/d/AI Challenge/Data/scene/L22/L22_V008.csv\n",
      "Processing: /mnt/d/AI Challenge/Data/video/L22/L22_V009.mp4 (38/169)\n"
     ]
    },
    {
     "name": "stderr",
     "output_type": "stream",
     "text": [
      "  Detected: 262 | Progress: 100%|██████████| 26927/26927 [00:15<00:00, 1748.11frames/s]\n"
     ]
    },
    {
     "name": "stdout",
     "output_type": "stream",
     "text": [
      "Saved: /mnt/d/AI Challenge/Data/scene/L22/L22_V009.csv\n",
      "Processing: /mnt/d/AI Challenge/Data/video/L22/L22_V010.mp4 (39/169)\n"
     ]
    },
    {
     "name": "stderr",
     "output_type": "stream",
     "text": [
      "  Detected: 329 | Progress: 100%|██████████| 27276/27276 [00:19<00:00, 1382.63frames/s]\n"
     ]
    },
    {
     "name": "stdout",
     "output_type": "stream",
     "text": [
      "Saved: /mnt/d/AI Challenge/Data/scene/L22/L22_V010.csv\n",
      "Processing: /mnt/d/AI Challenge/Data/video/L22/L22_V011.mp4 (40/169)\n"
     ]
    },
    {
     "name": "stderr",
     "output_type": "stream",
     "text": [
      "  Detected: 324 | Progress: 100%|██████████| 32881/32881 [00:21<00:00, 1533.08frames/s]\n"
     ]
    },
    {
     "name": "stdout",
     "output_type": "stream",
     "text": [
      "Saved: /mnt/d/AI Challenge/Data/scene/L22/L22_V011.csv\n",
      "Processing: /mnt/d/AI Challenge/Data/video/L22/L22_V012.mp4 (41/169)\n"
     ]
    },
    {
     "name": "stderr",
     "output_type": "stream",
     "text": [
      "  Detected: 356 | Progress: 100%|██████████| 36143/36143 [00:25<00:00, 1412.04frames/s]\n"
     ]
    },
    {
     "name": "stdout",
     "output_type": "stream",
     "text": [
      "Saved: /mnt/d/AI Challenge/Data/scene/L22/L22_V012.csv\n",
      "Processing: /mnt/d/AI Challenge/Data/video/L22/L22_V013.mp4 (42/169)\n"
     ]
    },
    {
     "name": "stderr",
     "output_type": "stream",
     "text": [
      "  Detected: 390 | Progress: 100%|██████████| 38015/38015 [00:24<00:00, 1553.05frames/s]\n"
     ]
    },
    {
     "name": "stdout",
     "output_type": "stream",
     "text": [
      "Saved: /mnt/d/AI Challenge/Data/scene/L22/L22_V013.csv\n",
      "Processing: /mnt/d/AI Challenge/Data/video/L22/L22_V014.mp4 (43/169)\n"
     ]
    },
    {
     "name": "stderr",
     "output_type": "stream",
     "text": [
      "  Detected: 304 | Progress: 100%|██████████| 34157/34157 [00:24<00:00, 1381.34frames/s]\n"
     ]
    },
    {
     "name": "stdout",
     "output_type": "stream",
     "text": [
      "Saved: /mnt/d/AI Challenge/Data/scene/L22/L22_V014.csv\n",
      "Processing: /mnt/d/AI Challenge/Data/video/L22/L22_V015.mp4 (44/169)\n"
     ]
    },
    {
     "name": "stderr",
     "output_type": "stream",
     "text": [
      "  Detected: 357 | Progress: 100%|██████████| 39244/39244 [00:23<00:00, 1693.29frames/s]\n"
     ]
    },
    {
     "name": "stdout",
     "output_type": "stream",
     "text": [
      "Saved: /mnt/d/AI Challenge/Data/scene/L22/L22_V015.csv\n",
      "Processing: /mnt/d/AI Challenge/Data/video/L22/L22_V016.mp4 (45/169)\n"
     ]
    },
    {
     "name": "stderr",
     "output_type": "stream",
     "text": [
      "  Detected: 443 | Progress: 100%|██████████| 35920/35920 [00:25<00:00, 1434.91frames/s]\n"
     ]
    },
    {
     "name": "stdout",
     "output_type": "stream",
     "text": [
      "Saved: /mnt/d/AI Challenge/Data/scene/L22/L22_V016.csv\n",
      "Processing: /mnt/d/AI Challenge/Data/video/L22/L22_V017.mp4 (46/169)\n"
     ]
    },
    {
     "name": "stderr",
     "output_type": "stream",
     "text": [
      "  Detected: 292 | Progress: 100%|██████████| 27579/27579 [00:19<00:00, 1397.25frames/s]\n"
     ]
    },
    {
     "name": "stdout",
     "output_type": "stream",
     "text": [
      "Saved: /mnt/d/AI Challenge/Data/scene/L22/L22_V017.csv\n",
      "Processing: /mnt/d/AI Challenge/Data/video/L22/L22_V018.mp4 (47/169)\n"
     ]
    },
    {
     "name": "stderr",
     "output_type": "stream",
     "text": [
      "  Detected: 387 | Progress: 100%|██████████| 41309/41309 [00:25<00:00, 1641.80frames/s]\n"
     ]
    },
    {
     "name": "stdout",
     "output_type": "stream",
     "text": [
      "Saved: /mnt/d/AI Challenge/Data/scene/L22/L22_V018.csv\n",
      "Processing: /mnt/d/AI Challenge/Data/video/L22/L22_V019.mp4 (48/169)\n"
     ]
    },
    {
     "name": "stderr",
     "output_type": "stream",
     "text": [
      "  Detected: 317 | Progress: 100%|██████████| 31019/31019 [00:19<00:00, 1622.05frames/s]\n"
     ]
    },
    {
     "name": "stdout",
     "output_type": "stream",
     "text": [
      "Saved: /mnt/d/AI Challenge/Data/scene/L22/L22_V019.csv\n",
      "Processing: /mnt/d/AI Challenge/Data/video/L22/L22_V020.mp4 (49/169)\n"
     ]
    },
    {
     "name": "stderr",
     "output_type": "stream",
     "text": [
      "  Detected: 347 | Progress: 100%|██████████| 38981/38981 [00:24<00:00, 1575.93frames/s]\n"
     ]
    },
    {
     "name": "stdout",
     "output_type": "stream",
     "text": [
      "Saved: /mnt/d/AI Challenge/Data/scene/L22/L22_V020.csv\n",
      "Processing: /mnt/d/AI Challenge/Data/video/L22/L22_V021.mp4 (50/169)\n"
     ]
    },
    {
     "name": "stderr",
     "output_type": "stream",
     "text": [
      "  Detected: 369 | Progress: 100%|██████████| 38124/38124 [00:23<00:00, 1607.56frames/s]\n"
     ]
    },
    {
     "name": "stdout",
     "output_type": "stream",
     "text": [
      "Saved: /mnt/d/AI Challenge/Data/scene/L22/L22_V021.csv\n",
      "Processing: /mnt/d/AI Challenge/Data/video/L22/L22_V022.mp4 (51/169)\n"
     ]
    },
    {
     "name": "stderr",
     "output_type": "stream",
     "text": [
      "  Detected: 336 | Progress: 100%|██████████| 34149/34149 [00:22<00:00, 1495.36frames/s]\n"
     ]
    },
    {
     "name": "stdout",
     "output_type": "stream",
     "text": [
      "Saved: /mnt/d/AI Challenge/Data/scene/L22/L22_V022.csv\n",
      "Processing: /mnt/d/AI Challenge/Data/video/L22/L22_V023.mp4 (52/169)\n"
     ]
    },
    {
     "name": "stderr",
     "output_type": "stream",
     "text": [
      "  Detected: 302 | Progress: 100%|██████████| 31066/31066 [00:21<00:00, 1424.34frames/s]\n"
     ]
    },
    {
     "name": "stdout",
     "output_type": "stream",
     "text": [
      "Saved: /mnt/d/AI Challenge/Data/scene/L22/L22_V023.csv\n",
      "Processing: /mnt/d/AI Challenge/Data/video/L22/L22_V024.mp4 (53/169)\n"
     ]
    },
    {
     "name": "stderr",
     "output_type": "stream",
     "text": [
      "  Detected: 332 | Progress: 100%|██████████| 31705/31705 [00:21<00:00, 1446.42frames/s]\n"
     ]
    },
    {
     "name": "stdout",
     "output_type": "stream",
     "text": [
      "Saved: /mnt/d/AI Challenge/Data/scene/L22/L22_V024.csv\n",
      "Processing: /mnt/d/AI Challenge/Data/video/L22/L22_V025.mp4 (54/169)\n"
     ]
    },
    {
     "name": "stderr",
     "output_type": "stream",
     "text": [
      "  Detected: 327 | Progress: 100%|██████████| 33875/33875 [00:24<00:00, 1411.45frames/s]\n"
     ]
    },
    {
     "name": "stdout",
     "output_type": "stream",
     "text": [
      "Saved: /mnt/d/AI Challenge/Data/scene/L22/L22_V025.csv\n",
      "Processing: /mnt/d/AI Challenge/Data/video/L22/L22_V026.mp4 (55/169)\n"
     ]
    },
    {
     "name": "stderr",
     "output_type": "stream",
     "text": [
      "  Detected: 328 | Progress: 100%|██████████| 34064/34064 [00:21<00:00, 1577.21frames/s]\n"
     ]
    },
    {
     "name": "stdout",
     "output_type": "stream",
     "text": [
      "Saved: /mnt/d/AI Challenge/Data/scene/L22/L22_V026.csv\n",
      "Processing: /mnt/d/AI Challenge/Data/video/L22/L22_V027.mp4 (56/169)\n"
     ]
    },
    {
     "name": "stderr",
     "output_type": "stream",
     "text": [
      "  Detected: 272 | Progress: 100%|██████████| 33200/33200 [00:18<00:00, 1791.79frames/s]\n"
     ]
    },
    {
     "name": "stdout",
     "output_type": "stream",
     "text": [
      "Saved: /mnt/d/AI Challenge/Data/scene/L22/L22_V027.csv\n",
      "Processing: /mnt/d/AI Challenge/Data/video/L22/L22_V028.mp4 (57/169)\n"
     ]
    },
    {
     "name": "stderr",
     "output_type": "stream",
     "text": [
      "  Detected: 343 | Progress: 100%|██████████| 33445/33445 [00:21<00:00, 1558.47frames/s]\n"
     ]
    },
    {
     "name": "stdout",
     "output_type": "stream",
     "text": [
      "Saved: /mnt/d/AI Challenge/Data/scene/L22/L22_V028.csv\n",
      "Processing: /mnt/d/AI Challenge/Data/video/L22/L22_V029.mp4 (58/169)\n"
     ]
    },
    {
     "name": "stderr",
     "output_type": "stream",
     "text": [
      "  Detected: 313 | Progress: 100%|██████████| 31679/31679 [00:19<00:00, 1632.76frames/s]\n"
     ]
    },
    {
     "name": "stdout",
     "output_type": "stream",
     "text": [
      "Saved: /mnt/d/AI Challenge/Data/scene/L22/L22_V029.csv\n",
      "Processing: /mnt/d/AI Challenge/Data/video/L22/L22_V030.mp4 (59/169)\n"
     ]
    },
    {
     "name": "stderr",
     "output_type": "stream",
     "text": [
      "  Detected: 305 | Progress: 100%|██████████| 27945/27945 [00:18<00:00, 1508.80frames/s]\n"
     ]
    },
    {
     "name": "stdout",
     "output_type": "stream",
     "text": [
      "Saved: /mnt/d/AI Challenge/Data/scene/L22/L22_V030.csv\n",
      "Processing: /mnt/d/AI Challenge/Data/video/L22/L22_V031.mp4 (60/169)\n"
     ]
    },
    {
     "name": "stderr",
     "output_type": "stream",
     "text": [
      "  Detected: 333 | Progress: 100%|██████████| 29754/29754 [00:16<00:00, 1808.19frames/s]\n"
     ]
    },
    {
     "name": "stdout",
     "output_type": "stream",
     "text": [
      "Saved: /mnt/d/AI Challenge/Data/scene/L22/L22_V031.csv\n",
      "Processing: /mnt/d/AI Challenge/Data/video/L23/L23_V001.mp4 (61/169)\n"
     ]
    },
    {
     "name": "stderr",
     "output_type": "stream",
     "text": [
      "  Detected: 60 | Progress: 100%|██████████| 4399/4399 [00:02<00:00, 1569.34frames/s]\n"
     ]
    },
    {
     "name": "stdout",
     "output_type": "stream",
     "text": [
      "Saved: /mnt/d/AI Challenge/Data/scene/L23/L23_V001.csv\n",
      "Processing: /mnt/d/AI Challenge/Data/video/L23/L23_V002.mp4 (62/169)\n"
     ]
    },
    {
     "name": "stderr",
     "output_type": "stream",
     "text": [
      "  Detected: 45 | Progress: 100%|██████████| 10887/10887 [00:08<00:00, 1298.68frames/s]\n"
     ]
    },
    {
     "name": "stdout",
     "output_type": "stream",
     "text": [
      "Saved: /mnt/d/AI Challenge/Data/scene/L23/L23_V002.csv\n",
      "Processing: /mnt/d/AI Challenge/Data/video/L23/L23_V003.mp4 (63/169)\n"
     ]
    },
    {
     "name": "stderr",
     "output_type": "stream",
     "text": [
      "  Detected: 53 | Progress: 100%|██████████| 7758/7758 [00:04<00:00, 1643.47frames/s]\n"
     ]
    },
    {
     "name": "stdout",
     "output_type": "stream",
     "text": [
      "Saved: /mnt/d/AI Challenge/Data/scene/L23/L23_V003.csv\n",
      "Processing: /mnt/d/AI Challenge/Data/video/L23/L23_V004.mp4 (64/169)\n"
     ]
    },
    {
     "name": "stderr",
     "output_type": "stream",
     "text": [
      "  Detected: 42 | Progress: 100%|██████████| 9931/9931 [00:05<00:00, 1728.76frames/s]\n"
     ]
    },
    {
     "name": "stdout",
     "output_type": "stream",
     "text": [
      "Saved: /mnt/d/AI Challenge/Data/scene/L23/L23_V004.csv\n",
      "Processing: /mnt/d/AI Challenge/Data/video/L23/L23_V005.mp4 (65/169)\n"
     ]
    },
    {
     "name": "stderr",
     "output_type": "stream",
     "text": [
      "  Detected: 24 | Progress: 100%|██████████| 6067/6067 [00:03<00:00, 1676.04frames/s]\n"
     ]
    },
    {
     "name": "stdout",
     "output_type": "stream",
     "text": [
      "Saved: /mnt/d/AI Challenge/Data/scene/L23/L23_V005.csv\n",
      "Processing: /mnt/d/AI Challenge/Data/video/L23/L23_V006.mp4 (66/169)\n"
     ]
    },
    {
     "name": "stderr",
     "output_type": "stream",
     "text": [
      "  Detected: 50 | Progress: 100%|██████████| 8926/8926 [00:05<00:00, 1677.53frames/s]\n"
     ]
    },
    {
     "name": "stdout",
     "output_type": "stream",
     "text": [
      "Saved: /mnt/d/AI Challenge/Data/scene/L23/L23_V006.csv\n",
      "Processing: /mnt/d/AI Challenge/Data/video/L23/L23_V007.mp4 (67/169)\n"
     ]
    },
    {
     "name": "stderr",
     "output_type": "stream",
     "text": [
      "  Detected: 45 | Progress: 100%|██████████| 9869/9869 [00:05<00:00, 1716.24frames/s]\n"
     ]
    },
    {
     "name": "stdout",
     "output_type": "stream",
     "text": [
      "Saved: /mnt/d/AI Challenge/Data/scene/L23/L23_V007.csv\n",
      "Processing: /mnt/d/AI Challenge/Data/video/L23/L23_V008.mp4 (68/169)\n"
     ]
    },
    {
     "name": "stderr",
     "output_type": "stream",
     "text": [
      "  Detected: 80 | Progress: 100%|██████████| 6166/6166 [00:06<00:00, 901.08frames/s] \n"
     ]
    },
    {
     "name": "stdout",
     "output_type": "stream",
     "text": [
      "Saved: /mnt/d/AI Challenge/Data/scene/L23/L23_V008.csv\n",
      "Processing: /mnt/d/AI Challenge/Data/video/L23/L23_V009.mp4 (69/169)\n"
     ]
    },
    {
     "name": "stderr",
     "output_type": "stream",
     "text": [
      "  Detected: 30 | Progress: 100%|██████████| 7846/7846 [00:05<00:00, 1310.33frames/s]\n"
     ]
    },
    {
     "name": "stdout",
     "output_type": "stream",
     "text": [
      "Saved: /mnt/d/AI Challenge/Data/scene/L23/L23_V009.csv\n",
      "Processing: /mnt/d/AI Challenge/Data/video/L23/L23_V010.mp4 (70/169)\n"
     ]
    },
    {
     "name": "stderr",
     "output_type": "stream",
     "text": [
      "  Detected: 58 | Progress: 100%|██████████| 7800/7800 [00:05<00:00, 1449.89frames/s]\n"
     ]
    },
    {
     "name": "stdout",
     "output_type": "stream",
     "text": [
      "Saved: /mnt/d/AI Challenge/Data/scene/L23/L23_V010.csv\n",
      "Processing: /mnt/d/AI Challenge/Data/video/L23/L23_V011.mp4 (71/169)\n"
     ]
    },
    {
     "name": "stderr",
     "output_type": "stream",
     "text": [
      "  Detected: 80 | Progress: 100%|██████████| 10123/10123 [00:06<00:00, 1507.88frames/s]\n"
     ]
    },
    {
     "name": "stdout",
     "output_type": "stream",
     "text": [
      "Saved: /mnt/d/AI Challenge/Data/scene/L23/L23_V011.csv\n",
      "Processing: /mnt/d/AI Challenge/Data/video/L23/L23_V012.mp4 (72/169)\n"
     ]
    },
    {
     "name": "stderr",
     "output_type": "stream",
     "text": [
      "  Detected: 32 | Progress: 100%|██████████| 10425/10425 [00:05<00:00, 1738.64frames/s]\n"
     ]
    },
    {
     "name": "stdout",
     "output_type": "stream",
     "text": [
      "Saved: /mnt/d/AI Challenge/Data/scene/L23/L23_V012.csv\n",
      "Processing: /mnt/d/AI Challenge/Data/video/L23/L23_V013.mp4 (73/169)\n"
     ]
    },
    {
     "name": "stderr",
     "output_type": "stream",
     "text": [
      "  Detected: 70 | Progress: 100%|██████████| 9286/9286 [00:05<00:00, 1750.45frames/s]\n"
     ]
    },
    {
     "name": "stdout",
     "output_type": "stream",
     "text": [
      "Saved: /mnt/d/AI Challenge/Data/scene/L23/L23_V013.csv\n",
      "Processing: /mnt/d/AI Challenge/Data/video/L23/L23_V014.mp4 (74/169)\n"
     ]
    },
    {
     "name": "stderr",
     "output_type": "stream",
     "text": [
      "  Detected: 42 | Progress: 100%|██████████| 8003/8003 [00:07<00:00, 1135.56frames/s]\n"
     ]
    },
    {
     "name": "stdout",
     "output_type": "stream",
     "text": [
      "Saved: /mnt/d/AI Challenge/Data/scene/L23/L23_V014.csv\n",
      "Processing: /mnt/d/AI Challenge/Data/video/L23/L23_V015.mp4 (75/169)\n"
     ]
    },
    {
     "name": "stderr",
     "output_type": "stream",
     "text": [
      "  Detected: 25 | Progress: 100%|██████████| 9254/9254 [00:05<00:00, 1777.21frames/s]\n"
     ]
    },
    {
     "name": "stdout",
     "output_type": "stream",
     "text": [
      "Saved: /mnt/d/AI Challenge/Data/scene/L23/L23_V015.csv\n",
      "Processing: /mnt/d/AI Challenge/Data/video/L23/L23_V016.mp4 (76/169)\n"
     ]
    },
    {
     "name": "stderr",
     "output_type": "stream",
     "text": [
      "  Detected: 25 | Progress: 100%|██████████| 8409/8409 [00:04<00:00, 1761.80frames/s]\n"
     ]
    },
    {
     "name": "stdout",
     "output_type": "stream",
     "text": [
      "Saved: /mnt/d/AI Challenge/Data/scene/L23/L23_V016.csv\n",
      "Processing: /mnt/d/AI Challenge/Data/video/L23/L23_V017.mp4 (77/169)\n"
     ]
    },
    {
     "name": "stderr",
     "output_type": "stream",
     "text": [
      "  Detected: 40 | Progress: 100%|██████████| 7947/7947 [00:04<00:00, 1817.41frames/s]\n"
     ]
    },
    {
     "name": "stdout",
     "output_type": "stream",
     "text": [
      "Saved: /mnt/d/AI Challenge/Data/scene/L23/L23_V017.csv\n",
      "Processing: /mnt/d/AI Challenge/Data/video/L23/L23_V018.mp4 (78/169)\n"
     ]
    },
    {
     "name": "stderr",
     "output_type": "stream",
     "text": [
      "  Detected: 39 | Progress: 100%|██████████| 12698/12698 [00:07<00:00, 1800.61frames/s]\n"
     ]
    },
    {
     "name": "stdout",
     "output_type": "stream",
     "text": [
      "Saved: /mnt/d/AI Challenge/Data/scene/L23/L23_V018.csv\n",
      "Processing: /mnt/d/AI Challenge/Data/video/L23/L23_V019.mp4 (79/169)\n"
     ]
    },
    {
     "name": "stderr",
     "output_type": "stream",
     "text": [
      "  Detected: 42 | Progress: 100%|██████████| 13531/13531 [00:09<00:00, 1384.74frames/s]\n"
     ]
    },
    {
     "name": "stdout",
     "output_type": "stream",
     "text": [
      "Saved: /mnt/d/AI Challenge/Data/scene/L23/L23_V019.csv\n",
      "Processing: /mnt/d/AI Challenge/Data/video/L23/L23_V020.mp4 (80/169)\n"
     ]
    },
    {
     "name": "stderr",
     "output_type": "stream",
     "text": [
      "  Detected: 58 | Progress: 100%|██████████| 9631/9631 [00:05<00:00, 1624.34frames/s]\n"
     ]
    },
    {
     "name": "stdout",
     "output_type": "stream",
     "text": [
      "Saved: /mnt/d/AI Challenge/Data/scene/L23/L23_V020.csv\n",
      "Processing: /mnt/d/AI Challenge/Data/video/L23/L23_V021.mp4 (81/169)\n"
     ]
    },
    {
     "name": "stderr",
     "output_type": "stream",
     "text": [
      "  Detected: 78 | Progress: 100%|██████████| 13595/13595 [00:08<00:00, 1513.78frames/s]\n"
     ]
    },
    {
     "name": "stdout",
     "output_type": "stream",
     "text": [
      "Saved: /mnt/d/AI Challenge/Data/scene/L23/L23_V021.csv\n",
      "Processing: /mnt/d/AI Challenge/Data/video/L23/L23_V022.mp4 (82/169)\n"
     ]
    },
    {
     "name": "stderr",
     "output_type": "stream",
     "text": [
      "  Detected: 29 | Progress: 100%|██████████| 9118/9118 [00:04<00:00, 1883.72frames/s]\n"
     ]
    },
    {
     "name": "stdout",
     "output_type": "stream",
     "text": [
      "Saved: /mnt/d/AI Challenge/Data/scene/L23/L23_V022.csv\n",
      "Processing: /mnt/d/AI Challenge/Data/video/L23/L23_V023.mp4 (83/169)\n"
     ]
    },
    {
     "name": "stderr",
     "output_type": "stream",
     "text": [
      "  Detected: 53 | Progress: 100%|██████████| 9884/9884 [00:05<00:00, 1800.49frames/s]\n"
     ]
    },
    {
     "name": "stdout",
     "output_type": "stream",
     "text": [
      "Saved: /mnt/d/AI Challenge/Data/scene/L23/L23_V023.csv\n",
      "Processing: /mnt/d/AI Challenge/Data/video/L23/L23_V024.mp4 (84/169)\n"
     ]
    },
    {
     "name": "stderr",
     "output_type": "stream",
     "text": [
      "  Detected: 32 | Progress: 100%|██████████| 9988/9988 [00:08<00:00, 1119.69frames/s]\n"
     ]
    },
    {
     "name": "stdout",
     "output_type": "stream",
     "text": [
      "Saved: /mnt/d/AI Challenge/Data/scene/L23/L23_V024.csv\n",
      "Processing: /mnt/d/AI Challenge/Data/video/L23/L23_V025.mp4 (85/169)\n"
     ]
    },
    {
     "name": "stderr",
     "output_type": "stream",
     "text": [
      "  Detected: 132 | Progress: 100%|██████████| 21504/21504 [00:14<00:00, 1505.38frames/s]\n"
     ]
    },
    {
     "name": "stdout",
     "output_type": "stream",
     "text": [
      "Saved: /mnt/d/AI Challenge/Data/scene/L23/L23_V025.csv\n",
      "Processing: /mnt/d/AI Challenge/Data/video/L24/L24_V002.mp4 (86/169)\n"
     ]
    },
    {
     "name": "stderr",
     "output_type": "stream",
     "text": [
      "  Detected: 85 | Progress: 100%|██████████| 17573/17573 [00:11<00:00, 1580.26frames/s]\n"
     ]
    },
    {
     "name": "stdout",
     "output_type": "stream",
     "text": [
      "Saved: /mnt/d/AI Challenge/Data/scene/L24/L24_V002.csv\n",
      "Processing: /mnt/d/AI Challenge/Data/video/L24/L24_V003.mp4 (87/169)\n"
     ]
    },
    {
     "name": "stderr",
     "output_type": "stream",
     "text": [
      "  Detected: 92 | Progress: 100%|██████████| 19078/19078 [00:14<00:00, 1298.14frames/s]\n"
     ]
    },
    {
     "name": "stdout",
     "output_type": "stream",
     "text": [
      "Saved: /mnt/d/AI Challenge/Data/scene/L24/L24_V003.csv\n",
      "Processing: /mnt/d/AI Challenge/Data/video/L24/L24_V004.mp4 (88/169)\n"
     ]
    },
    {
     "name": "stderr",
     "output_type": "stream",
     "text": [
      "  Detected: 106 | Progress: 100%|██████████| 23406/23406 [00:13<00:00, 1768.84frames/s]\n"
     ]
    },
    {
     "name": "stdout",
     "output_type": "stream",
     "text": [
      "Saved: /mnt/d/AI Challenge/Data/scene/L24/L24_V004.csv\n",
      "Processing: /mnt/d/AI Challenge/Data/video/L24/L24_V006.mp4 (89/169)\n"
     ]
    },
    {
     "name": "stderr",
     "output_type": "stream",
     "text": [
      "  Detected: 44 | Progress: 100%|██████████| 14218/14218 [00:09<00:00, 1550.98frames/s]\n"
     ]
    },
    {
     "name": "stdout",
     "output_type": "stream",
     "text": [
      "Saved: /mnt/d/AI Challenge/Data/scene/L24/L24_V006.csv\n",
      "Processing: /mnt/d/AI Challenge/Data/video/L24/L24_V007.mp4 (90/169)\n"
     ]
    },
    {
     "name": "stderr",
     "output_type": "stream",
     "text": [
      "  Detected: 48 | Progress: 100%|██████████| 14260/14260 [00:11<00:00, 1281.02frames/s]\n"
     ]
    },
    {
     "name": "stdout",
     "output_type": "stream",
     "text": [
      "Saved: /mnt/d/AI Challenge/Data/scene/L24/L24_V007.csv\n",
      "Processing: /mnt/d/AI Challenge/Data/video/L24/L24_V008.mp4 (91/169)\n"
     ]
    },
    {
     "name": "stderr",
     "output_type": "stream",
     "text": [
      "  Detected: 51 | Progress: 100%|██████████| 14051/14051 [00:08<00:00, 1709.37frames/s]\n"
     ]
    },
    {
     "name": "stdout",
     "output_type": "stream",
     "text": [
      "Saved: /mnt/d/AI Challenge/Data/scene/L24/L24_V008.csv\n",
      "Processing: /mnt/d/AI Challenge/Data/video/L24/L24_V009.mp4 (92/169)\n"
     ]
    },
    {
     "name": "stderr",
     "output_type": "stream",
     "text": [
      "  Detected: 52 | Progress: 100%|██████████| 12935/12935 [00:08<00:00, 1480.99frames/s]\n"
     ]
    },
    {
     "name": "stdout",
     "output_type": "stream",
     "text": [
      "Saved: /mnt/d/AI Challenge/Data/scene/L24/L24_V009.csv\n",
      "Processing: /mnt/d/AI Challenge/Data/video/L24/L24_V011.mp4 (93/169)\n"
     ]
    },
    {
     "name": "stderr",
     "output_type": "stream",
     "text": [
      "  Detected: 72 | Progress: 100%|██████████| 16236/16236 [00:12<00:00, 1281.10frames/s]\n"
     ]
    },
    {
     "name": "stdout",
     "output_type": "stream",
     "text": [
      "Saved: /mnt/d/AI Challenge/Data/scene/L24/L24_V011.csv\n",
      "Processing: /mnt/d/AI Challenge/Data/video/L24/L24_V012.mp4 (94/169)\n"
     ]
    },
    {
     "name": "stderr",
     "output_type": "stream",
     "text": [
      "  Detected: 13 | Progress: 100%|██████████| 2429/2429 [00:01<00:00, 1549.61frames/s]\n"
     ]
    },
    {
     "name": "stdout",
     "output_type": "stream",
     "text": [
      "Saved: /mnt/d/AI Challenge/Data/scene/L24/L24_V012.csv\n",
      "Processing: /mnt/d/AI Challenge/Data/video/L24/L24_V013.mp4 (95/169)\n"
     ]
    },
    {
     "name": "stderr",
     "output_type": "stream",
     "text": [
      "  Detected: 50 | Progress: 100%|██████████| 13053/13053 [00:07<00:00, 1651.35frames/s]\n"
     ]
    },
    {
     "name": "stdout",
     "output_type": "stream",
     "text": [
      "Saved: /mnt/d/AI Challenge/Data/scene/L24/L24_V013.csv\n",
      "Processing: /mnt/d/AI Challenge/Data/video/L24/L24_V014.mp4 (96/169)\n"
     ]
    },
    {
     "name": "stderr",
     "output_type": "stream",
     "text": [
      "  Detected: 52 | Progress: 100%|██████████| 13141/13141 [00:07<00:00, 1658.94frames/s]\n"
     ]
    },
    {
     "name": "stdout",
     "output_type": "stream",
     "text": [
      "Saved: /mnt/d/AI Challenge/Data/scene/L24/L24_V014.csv\n",
      "Processing: /mnt/d/AI Challenge/Data/video/L24/L24_V015.mp4 (97/169)\n"
     ]
    },
    {
     "name": "stderr",
     "output_type": "stream",
     "text": [
      "  Detected: 72 | Progress: 100%|██████████| 14927/14927 [00:08<00:00, 1702.45frames/s]\n"
     ]
    },
    {
     "name": "stdout",
     "output_type": "stream",
     "text": [
      "Saved: /mnt/d/AI Challenge/Data/scene/L24/L24_V015.csv\n",
      "Processing: /mnt/d/AI Challenge/Data/video/L24/L24_V016.mp4 (98/169)\n"
     ]
    },
    {
     "name": "stderr",
     "output_type": "stream",
     "text": [
      "  Detected: 51 | Progress: 100%|██████████| 14086/14086 [00:10<00:00, 1400.09frames/s]\n"
     ]
    },
    {
     "name": "stdout",
     "output_type": "stream",
     "text": [
      "Saved: /mnt/d/AI Challenge/Data/scene/L24/L24_V016.csv\n",
      "Processing: /mnt/d/AI Challenge/Data/video/L24/L24_V017.mp4 (99/169)\n"
     ]
    },
    {
     "name": "stderr",
     "output_type": "stream",
     "text": [
      "  Detected: 38 | Progress: 100%|██████████| 3441/3441 [00:01<00:00, 1805.18frames/s]\n"
     ]
    },
    {
     "name": "stdout",
     "output_type": "stream",
     "text": [
      "Saved: /mnt/d/AI Challenge/Data/scene/L24/L24_V017.csv\n",
      "Processing: /mnt/d/AI Challenge/Data/video/L24/L24_V018.mp4 (100/169)\n"
     ]
    },
    {
     "name": "stderr",
     "output_type": "stream",
     "text": [
      "  Detected: 71 | Progress: 100%|██████████| 16492/16492 [00:09<00:00, 1696.46frames/s]\n"
     ]
    },
    {
     "name": "stdout",
     "output_type": "stream",
     "text": [
      "Saved: /mnt/d/AI Challenge/Data/scene/L24/L24_V018.csv\n",
      "Processing: /mnt/d/AI Challenge/Data/video/L24/L24_V019.mp4 (101/169)\n"
     ]
    },
    {
     "name": "stderr",
     "output_type": "stream",
     "text": [
      "  Detected: 48 | Progress: 100%|██████████| 15610/15610 [00:12<00:00, 1229.83frames/s]\n"
     ]
    },
    {
     "name": "stdout",
     "output_type": "stream",
     "text": [
      "Saved: /mnt/d/AI Challenge/Data/scene/L24/L24_V019.csv\n",
      "Processing: /mnt/d/AI Challenge/Data/video/L24/L24_V020.mp4 (102/169)\n"
     ]
    },
    {
     "name": "stderr",
     "output_type": "stream",
     "text": [
      "  Detected: 49 | Progress: 100%|██████████| 14916/14916 [00:13<00:00, 1095.16frames/s]\n"
     ]
    },
    {
     "name": "stdout",
     "output_type": "stream",
     "text": [
      "Saved: /mnt/d/AI Challenge/Data/scene/L24/L24_V020.csv\n",
      "Processing: /mnt/d/AI Challenge/Data/video/L24/L24_V021.mp4 (103/169)\n"
     ]
    },
    {
     "name": "stderr",
     "output_type": "stream",
     "text": [
      "  Detected: 54 | Progress: 100%|██████████| 17013/17013 [00:12<00:00, 1314.30frames/s]\n"
     ]
    },
    {
     "name": "stdout",
     "output_type": "stream",
     "text": [
      "Saved: /mnt/d/AI Challenge/Data/scene/L24/L24_V021.csv\n",
      "Processing: /mnt/d/AI Challenge/Data/video/L24/L24_V022.mp4 (104/169)\n"
     ]
    },
    {
     "name": "stderr",
     "output_type": "stream",
     "text": [
      "  Detected: 55 | Progress: 100%|██████████| 17717/17717 [00:16<00:00, 1067.92frames/s]\n"
     ]
    },
    {
     "name": "stdout",
     "output_type": "stream",
     "text": [
      "Saved: /mnt/d/AI Challenge/Data/scene/L24/L24_V022.csv\n",
      "Processing: /mnt/d/AI Challenge/Data/video/L24/L24_V023.mp4 (105/169)\n"
     ]
    },
    {
     "name": "stderr",
     "output_type": "stream",
     "text": [
      "  Detected: 57 | Progress: 100%|██████████| 18137/18137 [00:14<00:00, 1240.10frames/s]\n"
     ]
    },
    {
     "name": "stdout",
     "output_type": "stream",
     "text": [
      "Saved: /mnt/d/AI Challenge/Data/scene/L24/L24_V023.csv\n",
      "Processing: /mnt/d/AI Challenge/Data/video/L24/L24_V024.mp4 (106/169)\n"
     ]
    },
    {
     "name": "stderr",
     "output_type": "stream",
     "text": [
      "  Detected: 54 | Progress: 100%|██████████| 16922/16922 [00:12<00:00, 1376.93frames/s]\n"
     ]
    },
    {
     "name": "stdout",
     "output_type": "stream",
     "text": [
      "Saved: /mnt/d/AI Challenge/Data/scene/L24/L24_V024.csv\n",
      "Processing: /mnt/d/AI Challenge/Data/video/L24/L24_V025.mp4 (107/169)\n"
     ]
    },
    {
     "name": "stderr",
     "output_type": "stream",
     "text": [
      "  Detected: 51 | Progress: 100%|██████████| 16872/16872 [00:12<00:00, 1330.58frames/s]\n"
     ]
    },
    {
     "name": "stdout",
     "output_type": "stream",
     "text": [
      "Saved: /mnt/d/AI Challenge/Data/scene/L24/L24_V025.csv\n",
      "Processing: /mnt/d/AI Challenge/Data/video/L24/L24_V026.mp4 (108/169)\n"
     ]
    },
    {
     "name": "stderr",
     "output_type": "stream",
     "text": [
      "  Detected: 63 | Progress: 100%|██████████| 14245/14245 [00:08<00:00, 1601.67frames/s]\n"
     ]
    },
    {
     "name": "stdout",
     "output_type": "stream",
     "text": [
      "Saved: /mnt/d/AI Challenge/Data/scene/L24/L24_V026.csv\n",
      "Processing: /mnt/d/AI Challenge/Data/video/L24/L24_V027.mp4 (109/169)\n"
     ]
    },
    {
     "name": "stderr",
     "output_type": "stream",
     "text": [
      "  Detected: 80 | Progress: 100%|██████████| 17056/17056 [00:09<00:00, 1864.81frames/s]\n"
     ]
    },
    {
     "name": "stdout",
     "output_type": "stream",
     "text": [
      "Saved: /mnt/d/AI Challenge/Data/scene/L24/L24_V027.csv\n",
      "Processing: /mnt/d/AI Challenge/Data/video/L24/L24_V028.mp4 (110/169)\n"
     ]
    },
    {
     "name": "stderr",
     "output_type": "stream",
     "text": [
      "  Detected: 92 | Progress: 100%|██████████| 17072/17072 [00:12<00:00, 1350.17frames/s]\n"
     ]
    },
    {
     "name": "stdout",
     "output_type": "stream",
     "text": [
      "Saved: /mnt/d/AI Challenge/Data/scene/L24/L24_V028.csv\n",
      "Processing: /mnt/d/AI Challenge/Data/video/L24/L24_V029.mp4 (111/169)\n"
     ]
    },
    {
     "name": "stderr",
     "output_type": "stream",
     "text": [
      "  Detected: 91 | Progress: 100%|██████████| 16632/16632 [00:11<00:00, 1425.16frames/s]\n"
     ]
    },
    {
     "name": "stdout",
     "output_type": "stream",
     "text": [
      "Saved: /mnt/d/AI Challenge/Data/scene/L24/L24_V029.csv\n",
      "Processing: /mnt/d/AI Challenge/Data/video/L24/L24_V030.mp4 (112/169)\n"
     ]
    },
    {
     "name": "stderr",
     "output_type": "stream",
     "text": [
      "  Detected: 99 | Progress: 100%|██████████| 19352/19352 [00:11<00:00, 1649.71frames/s]\n"
     ]
    },
    {
     "name": "stdout",
     "output_type": "stream",
     "text": [
      "Saved: /mnt/d/AI Challenge/Data/scene/L24/L24_V030.csv\n",
      "Processing: /mnt/d/AI Challenge/Data/video/L24/L24_V031.mp4 (113/169)\n"
     ]
    },
    {
     "name": "stderr",
     "output_type": "stream",
     "text": [
      "  Detected: 90 | Progress: 100%|██████████| 17069/17069 [00:11<00:00, 1477.10frames/s]\n"
     ]
    },
    {
     "name": "stdout",
     "output_type": "stream",
     "text": [
      "Saved: /mnt/d/AI Challenge/Data/scene/L24/L24_V031.csv\n",
      "Processing: /mnt/d/AI Challenge/Data/video/L24/L24_V033.mp4 (114/169)\n"
     ]
    },
    {
     "name": "stderr",
     "output_type": "stream",
     "text": [
      "  Detected: 72 | Progress: 100%|██████████| 17596/17596 [00:09<00:00, 1929.94frames/s]\n"
     ]
    },
    {
     "name": "stdout",
     "output_type": "stream",
     "text": [
      "Saved: /mnt/d/AI Challenge/Data/scene/L24/L24_V033.csv\n",
      "Processing: /mnt/d/AI Challenge/Data/video/L24/L24_V035.mp4 (115/169)\n"
     ]
    },
    {
     "name": "stderr",
     "output_type": "stream",
     "text": [
      "  Detected: 67 | Progress: 100%|██████████| 19851/19851 [00:10<00:00, 1890.52frames/s]\n"
     ]
    },
    {
     "name": "stdout",
     "output_type": "stream",
     "text": [
      "Saved: /mnt/d/AI Challenge/Data/scene/L24/L24_V035.csv\n",
      "Processing: /mnt/d/AI Challenge/Data/video/L24/L24_V036.mp4 (116/169)\n"
     ]
    },
    {
     "name": "stderr",
     "output_type": "stream",
     "text": [
      "  Detected: 32 | Progress: 100%|██████████| 8811/8811 [00:04<00:00, 1866.19frames/s]\n"
     ]
    },
    {
     "name": "stdout",
     "output_type": "stream",
     "text": [
      "Saved: /mnt/d/AI Challenge/Data/scene/L24/L24_V036.csv\n",
      "Processing: /mnt/d/AI Challenge/Data/video/L24/L24_V037.mp4 (117/169)\n"
     ]
    },
    {
     "name": "stderr",
     "output_type": "stream",
     "text": [
      "  Detected: 67 | Progress: 100%|██████████| 19164/19164 [00:11<00:00, 1616.04frames/s]\n"
     ]
    },
    {
     "name": "stdout",
     "output_type": "stream",
     "text": [
      "Saved: /mnt/d/AI Challenge/Data/scene/L24/L24_V037.csv\n",
      "Processing: /mnt/d/AI Challenge/Data/video/L24/L24_V039.mp4 (118/169)\n"
     ]
    },
    {
     "name": "stderr",
     "output_type": "stream",
     "text": [
      "  Detected: 67 | Progress: 100%|██████████| 15600/15600 [00:07<00:00, 1959.60frames/s]\n"
     ]
    },
    {
     "name": "stdout",
     "output_type": "stream",
     "text": [
      "Saved: /mnt/d/AI Challenge/Data/scene/L24/L24_V039.csv\n",
      "Processing: /mnt/d/AI Challenge/Data/video/L24/L24_V041.mp4 (119/169)\n"
     ]
    },
    {
     "name": "stderr",
     "output_type": "stream",
     "text": [
      "  Detected: 10 | Progress: 100%|██████████| 1073/1073 [00:00<00:00, 1859.98frames/s]\n"
     ]
    },
    {
     "name": "stdout",
     "output_type": "stream",
     "text": [
      "Saved: /mnt/d/AI Challenge/Data/scene/L24/L24_V041.csv\n",
      "Processing: /mnt/d/AI Challenge/Data/video/L24/L24_V043.mp4 (120/169)\n"
     ]
    },
    {
     "name": "stderr",
     "output_type": "stream",
     "text": [
      "  Detected: 83 | Progress: 100%|██████████| 17201/17201 [00:09<00:00, 1721.69frames/s]\n"
     ]
    },
    {
     "name": "stdout",
     "output_type": "stream",
     "text": [
      "Saved: /mnt/d/AI Challenge/Data/scene/L24/L24_V043.csv\n",
      "Processing: /mnt/d/AI Challenge/Data/video/L24/L24_V044.mp4 (121/169)\n"
     ]
    },
    {
     "name": "stderr",
     "output_type": "stream",
     "text": [
      "  Detected: 15 | Progress: 100%|██████████| 933/933 [00:00<00:00, 1173.01frames/s]\n"
     ]
    },
    {
     "name": "stdout",
     "output_type": "stream",
     "text": [
      "Saved: /mnt/d/AI Challenge/Data/scene/L24/L24_V044.csv\n",
      "Processing: /mnt/d/AI Challenge/Data/video/L24/L24_V045.mp4 (122/169)\n"
     ]
    },
    {
     "name": "stderr",
     "output_type": "stream",
     "text": [
      "  Detected: 14 | Progress: 100%|██████████| 975/975 [00:00<00:00, 1607.58frames/s]\n"
     ]
    },
    {
     "name": "stdout",
     "output_type": "stream",
     "text": [
      "Saved: /mnt/d/AI Challenge/Data/scene/L24/L24_V045.csv\n",
      "Processing: /mnt/d/AI Challenge/Data/video/L25/L25_V001.mp4 (123/169)\n"
     ]
    },
    {
     "name": "stderr",
     "output_type": "stream",
     "text": [
      "  Detected: 93 | Progress: 100%|██████████| 40064/40064 [00:22<00:00, 1749.01frames/s]\n"
     ]
    },
    {
     "name": "stdout",
     "output_type": "stream",
     "text": [
      "Saved: /mnt/d/AI Challenge/Data/scene/L25/L25_V001.csv\n",
      "Processing: /mnt/d/AI Challenge/Data/video/L25/L25_V002.mp4 (124/169)\n"
     ]
    },
    {
     "name": "stderr",
     "output_type": "stream",
     "text": [
      "  Detected: 101 | Progress: 100%|██████████| 28496/28496 [00:16<00:00, 1773.42frames/s]\n"
     ]
    },
    {
     "name": "stdout",
     "output_type": "stream",
     "text": [
      "Saved: /mnt/d/AI Challenge/Data/scene/L25/L25_V002.csv\n",
      "Processing: /mnt/d/AI Challenge/Data/video/L25/L25_V003.mp4 (125/169)\n"
     ]
    },
    {
     "name": "stderr",
     "output_type": "stream",
     "text": [
      "  Detected: 87 | Progress: 100%|██████████| 29054/29054 [00:15<00:00, 1874.79frames/s]\n"
     ]
    },
    {
     "name": "stdout",
     "output_type": "stream",
     "text": [
      "Saved: /mnt/d/AI Challenge/Data/scene/L25/L25_V003.csv\n",
      "Processing: /mnt/d/AI Challenge/Data/video/L25/L25_V004.mp4 (126/169)\n"
     ]
    },
    {
     "name": "stderr",
     "output_type": "stream",
     "text": [
      "  Detected: 106 | Progress: 100%|██████████| 29912/29912 [00:19<00:00, 1564.14frames/s]\n"
     ]
    },
    {
     "name": "stdout",
     "output_type": "stream",
     "text": [
      "Saved: /mnt/d/AI Challenge/Data/scene/L25/L25_V004.csv\n",
      "Processing: /mnt/d/AI Challenge/Data/video/L25/L25_V005.mp4 (127/169)\n"
     ]
    },
    {
     "name": "stderr",
     "output_type": "stream",
     "text": [
      "  Detected: 553 | Progress: 100%|██████████| 57199/57199 [00:28<00:00, 2031.32frames/s]\n"
     ]
    },
    {
     "name": "stdout",
     "output_type": "stream",
     "text": [
      "Saved: /mnt/d/AI Challenge/Data/scene/L25/L25_V005.csv\n",
      "Processing: /mnt/d/AI Challenge/Data/video/L25/L25_V006.mp4 (128/169)\n"
     ]
    },
    {
     "name": "stderr",
     "output_type": "stream",
     "text": [
      "  Detected: 87 | Progress: 100%|██████████| 28063/28063 [00:15<00:00, 1760.91frames/s]\n"
     ]
    },
    {
     "name": "stdout",
     "output_type": "stream",
     "text": [
      "Saved: /mnt/d/AI Challenge/Data/scene/L25/L25_V006.csv\n",
      "Processing: /mnt/d/AI Challenge/Data/video/L25/L25_V007.mp4 (129/169)\n"
     ]
    },
    {
     "name": "stderr",
     "output_type": "stream",
     "text": [
      "  Detected: 110 | Progress: 100%|██████████| 68367/68367 [00:40<00:00, 1677.37frames/s]\n"
     ]
    },
    {
     "name": "stdout",
     "output_type": "stream",
     "text": [
      "Saved: /mnt/d/AI Challenge/Data/scene/L25/L25_V007.csv\n",
      "Processing: /mnt/d/AI Challenge/Data/video/L25/L25_V008.mp4 (130/169)\n"
     ]
    },
    {
     "name": "stderr",
     "output_type": "stream",
     "text": [
      "  Detected: 101 | Progress: 100%|██████████| 36324/36324 [00:23<00:00, 1532.24frames/s]\n"
     ]
    },
    {
     "name": "stdout",
     "output_type": "stream",
     "text": [
      "Saved: /mnt/d/AI Challenge/Data/scene/L25/L25_V008.csv\n",
      "Processing: /mnt/d/AI Challenge/Data/video/L25/L25_V009.mp4 (131/169)\n"
     ]
    },
    {
     "name": "stderr",
     "output_type": "stream",
     "text": [
      "  Detected: 85 | Progress: 100%|██████████| 21141/21141 [00:11<00:00, 1843.73frames/s]\n"
     ]
    },
    {
     "name": "stdout",
     "output_type": "stream",
     "text": [
      "Saved: /mnt/d/AI Challenge/Data/scene/L25/L25_V009.csv\n",
      "Processing: /mnt/d/AI Challenge/Data/video/L25/L25_V010.mp4 (132/169)\n"
     ]
    },
    {
     "name": "stderr",
     "output_type": "stream",
     "text": [
      "  Detected: 107 | Progress: 100%|██████████| 55116/55116 [00:36<00:00, 1496.12frames/s]\n"
     ]
    },
    {
     "name": "stdout",
     "output_type": "stream",
     "text": [
      "Saved: /mnt/d/AI Challenge/Data/scene/L25/L25_V010.csv\n",
      "Processing: /mnt/d/AI Challenge/Data/video/L25/L25_V011.mp4 (133/169)\n"
     ]
    },
    {
     "name": "stderr",
     "output_type": "stream",
     "text": [
      "  Detected: 97 | Progress: 100%|██████████| 22364/22364 [00:15<00:00, 1442.81frames/s]\n"
     ]
    },
    {
     "name": "stdout",
     "output_type": "stream",
     "text": [
      "Saved: /mnt/d/AI Challenge/Data/scene/L25/L25_V011.csv\n",
      "Processing: /mnt/d/AI Challenge/Data/video/L25/L25_V012.mp4 (134/169)\n"
     ]
    },
    {
     "name": "stderr",
     "output_type": "stream",
     "text": [
      "  Detected: 87 | Progress: 100%|██████████| 31020/31020 [00:16<00:00, 1850.18frames/s]\n"
     ]
    },
    {
     "name": "stdout",
     "output_type": "stream",
     "text": [
      "Saved: /mnt/d/AI Challenge/Data/scene/L25/L25_V012.csv\n",
      "Processing: /mnt/d/AI Challenge/Data/video/L25/L25_V013.mp4 (135/169)\n"
     ]
    },
    {
     "name": "stderr",
     "output_type": "stream",
     "text": [
      "  Detected: 149 | Progress: 100%|██████████| 35728/35728 [00:19<00:00, 1793.76frames/s]\n"
     ]
    },
    {
     "name": "stdout",
     "output_type": "stream",
     "text": [
      "Saved: /mnt/d/AI Challenge/Data/scene/L25/L25_V013.csv\n",
      "Processing: /mnt/d/AI Challenge/Data/video/L25/L25_V014.mp4 (136/169)\n"
     ]
    },
    {
     "name": "stderr",
     "output_type": "stream",
     "text": [
      "  Detected: 171 | Progress: 100%|██████████| 47689/47689 [00:23<00:00, 2045.34frames/s]\n"
     ]
    },
    {
     "name": "stdout",
     "output_type": "stream",
     "text": [
      "Saved: /mnt/d/AI Challenge/Data/scene/L25/L25_V014.csv\n",
      "Processing: /mnt/d/AI Challenge/Data/video/L25/L25_V015.mp4 (137/169)\n"
     ]
    },
    {
     "name": "stderr",
     "output_type": "stream",
     "text": [
      "  Detected: 85 | Progress: 100%|██████████| 33216/33216 [00:19<00:00, 1747.09frames/s]\n"
     ]
    },
    {
     "name": "stdout",
     "output_type": "stream",
     "text": [
      "Saved: /mnt/d/AI Challenge/Data/scene/L25/L25_V015.csv\n",
      "Processing: /mnt/d/AI Challenge/Data/video/L25/L25_V016.mp4 (138/169)\n"
     ]
    },
    {
     "name": "stderr",
     "output_type": "stream",
     "text": [
      "  Detected: 94 | Progress: 100%|██████████| 39809/39809 [00:24<00:00, 1636.30frames/s]\n"
     ]
    },
    {
     "name": "stdout",
     "output_type": "stream",
     "text": [
      "Saved: /mnt/d/AI Challenge/Data/scene/L25/L25_V016.csv\n",
      "Processing: /mnt/d/AI Challenge/Data/video/L25/L25_V017.mp4 (139/169)\n"
     ]
    },
    {
     "name": "stderr",
     "output_type": "stream",
     "text": [
      "  Detected: 98 | Progress: 100%|██████████| 34073/34073 [00:16<00:00, 2040.38frames/s]\n"
     ]
    },
    {
     "name": "stdout",
     "output_type": "stream",
     "text": [
      "Saved: /mnt/d/AI Challenge/Data/scene/L25/L25_V017.csv\n",
      "Processing: /mnt/d/AI Challenge/Data/video/L25/L25_V018.mp4 (140/169)\n"
     ]
    },
    {
     "name": "stderr",
     "output_type": "stream",
     "text": [
      "  Detected: 105 | Progress: 100%|██████████| 41559/41559 [00:25<00:00, 1599.54frames/s]\n"
     ]
    },
    {
     "name": "stdout",
     "output_type": "stream",
     "text": [
      "Saved: /mnt/d/AI Challenge/Data/scene/L25/L25_V018.csv\n",
      "Processing: /mnt/d/AI Challenge/Data/video/L25/L25_V019.mp4 (141/169)\n"
     ]
    },
    {
     "name": "stderr",
     "output_type": "stream",
     "text": [
      "  Detected: 92 | Progress: 100%|██████████| 22296/22296 [00:14<00:00, 1514.60frames/s]\n"
     ]
    },
    {
     "name": "stdout",
     "output_type": "stream",
     "text": [
      "Saved: /mnt/d/AI Challenge/Data/scene/L25/L25_V019.csv\n",
      "Processing: /mnt/d/AI Challenge/Data/video/L25/L25_V020.mp4 (142/169)\n"
     ]
    },
    {
     "name": "stderr",
     "output_type": "stream",
     "text": [
      "  Detected: 88 | Progress: 100%|██████████| 29876/29876 [00:19<00:00, 1523.44frames/s]\n"
     ]
    },
    {
     "name": "stdout",
     "output_type": "stream",
     "text": [
      "Saved: /mnt/d/AI Challenge/Data/scene/L25/L25_V020.csv\n",
      "Processing: /mnt/d/AI Challenge/Data/video/L25/L25_V021.mp4 (143/169)\n"
     ]
    },
    {
     "name": "stderr",
     "output_type": "stream",
     "text": [
      "  Detected: 166 | Progress: 100%|██████████| 34845/34845 [00:19<00:00, 1765.38frames/s]\n"
     ]
    },
    {
     "name": "stdout",
     "output_type": "stream",
     "text": [
      "Saved: /mnt/d/AI Challenge/Data/scene/L25/L25_V021.csv\n",
      "Processing: /mnt/d/AI Challenge/Data/video/L25/L25_V022.mp4 (144/169)\n"
     ]
    },
    {
     "name": "stderr",
     "output_type": "stream",
     "text": [
      "  Detected: 242 | Progress: 100%|██████████| 49144/49144 [00:28<00:00, 1702.27frames/s]\n"
     ]
    },
    {
     "name": "stdout",
     "output_type": "stream",
     "text": [
      "Saved: /mnt/d/AI Challenge/Data/scene/L25/L25_V022.csv\n",
      "Processing: /mnt/d/AI Challenge/Data/video/L25/L25_V023.mp4 (145/169)\n"
     ]
    },
    {
     "name": "stderr",
     "output_type": "stream",
     "text": [
      "  Detected: 86 | Progress: 100%|██████████| 36958/36958 [00:20<00:00, 1761.28frames/s]\n"
     ]
    },
    {
     "name": "stdout",
     "output_type": "stream",
     "text": [
      "Saved: /mnt/d/AI Challenge/Data/scene/L25/L25_V023.csv\n",
      "Processing: /mnt/d/AI Challenge/Data/video/L25/L25_V024.mp4 (146/169)\n"
     ]
    },
    {
     "name": "stderr",
     "output_type": "stream",
     "text": [
      "  Detected: 105 | Progress: 100%|██████████| 35862/35862 [00:17<00:00, 2036.42frames/s]\n"
     ]
    },
    {
     "name": "stdout",
     "output_type": "stream",
     "text": [
      "Saved: /mnt/d/AI Challenge/Data/scene/L25/L25_V024.csv\n",
      "Processing: /mnt/d/AI Challenge/Data/video/L25/L25_V025.mp4 (147/169)\n"
     ]
    },
    {
     "name": "stderr",
     "output_type": "stream",
     "text": [
      "  Detected: 118 | Progress: 100%|██████████| 50551/50551 [00:27<00:00, 1853.03frames/s]\n"
     ]
    },
    {
     "name": "stdout",
     "output_type": "stream",
     "text": [
      "Saved: /mnt/d/AI Challenge/Data/scene/L25/L25_V025.csv\n",
      "Processing: /mnt/d/AI Challenge/Data/video/L25/L25_V026.mp4 (148/169)\n"
     ]
    },
    {
     "name": "stderr",
     "output_type": "stream",
     "text": [
      "  Detected: 89 | Progress: 100%|██████████| 41254/41254 [00:26<00:00, 1536.10frames/s]\n"
     ]
    },
    {
     "name": "stdout",
     "output_type": "stream",
     "text": [
      "Saved: /mnt/d/AI Challenge/Data/scene/L25/L25_V026.csv\n",
      "Processing: /mnt/d/AI Challenge/Data/video/L25/L25_V027.mp4 (149/169)\n"
     ]
    },
    {
     "name": "stderr",
     "output_type": "stream",
     "text": [
      "  Detected: 91 | Progress: 100%|██████████| 44477/44477 [00:29<00:00, 1496.96frames/s]\n"
     ]
    },
    {
     "name": "stdout",
     "output_type": "stream",
     "text": [
      "Saved: /mnt/d/AI Challenge/Data/scene/L25/L25_V027.csv\n",
      "Processing: /mnt/d/AI Challenge/Data/video/L25/L25_V028.mp4 (150/169)\n"
     ]
    },
    {
     "name": "stderr",
     "output_type": "stream",
     "text": [
      "  Detected: 101 | Progress: 100%|██████████| 21939/21939 [00:11<00:00, 1916.84frames/s]\n"
     ]
    },
    {
     "name": "stdout",
     "output_type": "stream",
     "text": [
      "Saved: /mnt/d/AI Challenge/Data/scene/L25/L25_V028.csv\n",
      "Processing: /mnt/d/AI Challenge/Data/video/L25/L25_V029.mp4 (151/169)\n"
     ]
    },
    {
     "name": "stderr",
     "output_type": "stream",
     "text": [
      "  Detected: 87 | Progress: 100%|██████████| 33871/33871 [00:22<00:00, 1531.43frames/s]\n"
     ]
    },
    {
     "name": "stdout",
     "output_type": "stream",
     "text": [
      "Saved: /mnt/d/AI Challenge/Data/scene/L25/L25_V029.csv\n",
      "Processing: /mnt/d/AI Challenge/Data/video/L25/L25_V030.mp4 (152/169)\n"
     ]
    },
    {
     "name": "stderr",
     "output_type": "stream",
     "text": [
      "  Detected: 104 | Progress: 100%|██████████| 38560/38560 [00:20<00:00, 1853.23frames/s]\n"
     ]
    },
    {
     "name": "stdout",
     "output_type": "stream",
     "text": [
      "Saved: /mnt/d/AI Challenge/Data/scene/L25/L25_V030.csv\n",
      "Processing: /mnt/d/AI Challenge/Data/video/L25/L25_V031.mp4 (153/169)\n"
     ]
    },
    {
     "name": "stderr",
     "output_type": "stream",
     "text": [
      "  Detected: 249 | Progress: 100%|██████████| 37788/37788 [00:20<00:00, 1836.38frames/s]\n"
     ]
    },
    {
     "name": "stdout",
     "output_type": "stream",
     "text": [
      "Saved: /mnt/d/AI Challenge/Data/scene/L25/L25_V031.csv\n",
      "Processing: /mnt/d/AI Challenge/Data/video/L25/L25_V032.mp4 (154/169)\n"
     ]
    },
    {
     "name": "stderr",
     "output_type": "stream",
     "text": [
      "  Detected: 88 | Progress: 100%|██████████| 41528/41528 [00:23<00:00, 1739.55frames/s]\n"
     ]
    },
    {
     "name": "stdout",
     "output_type": "stream",
     "text": [
      "Saved: /mnt/d/AI Challenge/Data/scene/L25/L25_V032.csv\n",
      "Processing: /mnt/d/AI Challenge/Data/video/L25/L25_V033.mp4 (155/169)\n"
     ]
    },
    {
     "name": "stderr",
     "output_type": "stream",
     "text": [
      "  Detected: 106 | Progress: 100%|██████████| 48230/48230 [00:29<00:00, 1660.78frames/s]\n"
     ]
    },
    {
     "name": "stdout",
     "output_type": "stream",
     "text": [
      "Saved: /mnt/d/AI Challenge/Data/scene/L25/L25_V033.csv\n",
      "Processing: /mnt/d/AI Challenge/Data/video/L25/L25_V034.mp4 (156/169)\n"
     ]
    },
    {
     "name": "stderr",
     "output_type": "stream",
     "text": [
      "  Detected: 179 | Progress: 100%|██████████| 41151/41151 [00:20<00:00, 2056.43frames/s]\n"
     ]
    },
    {
     "name": "stdout",
     "output_type": "stream",
     "text": [
      "Saved: /mnt/d/AI Challenge/Data/scene/L25/L25_V034.csv\n",
      "Processing: /mnt/d/AI Challenge/Data/video/L25/L25_V035.mp4 (157/169)\n"
     ]
    },
    {
     "name": "stderr",
     "output_type": "stream",
     "text": [
      "  Detected: 85 | Progress: 100%|██████████| 32493/32493 [00:19<00:00, 1703.19frames/s]\n"
     ]
    },
    {
     "name": "stdout",
     "output_type": "stream",
     "text": [
      "Saved: /mnt/d/AI Challenge/Data/scene/L25/L25_V035.csv\n",
      "Processing: /mnt/d/AI Challenge/Data/video/L25/L25_V036.mp4 (158/169)\n"
     ]
    },
    {
     "name": "stderr",
     "output_type": "stream",
     "text": [
      "  Detected: 136 | Progress: 100%|██████████| 45160/45160 [00:22<00:00, 1981.64frames/s]\n"
     ]
    },
    {
     "name": "stdout",
     "output_type": "stream",
     "text": [
      "Saved: /mnt/d/AI Challenge/Data/scene/L25/L25_V036.csv\n",
      "Processing: /mnt/d/AI Challenge/Data/video/L25/L25_V037.mp4 (159/169)\n"
     ]
    },
    {
     "name": "stderr",
     "output_type": "stream",
     "text": [
      "  Detected: 108 | Progress: 100%|██████████| 21984/21984 [00:16<00:00, 1328.60frames/s]\n"
     ]
    },
    {
     "name": "stdout",
     "output_type": "stream",
     "text": [
      "Saved: /mnt/d/AI Challenge/Data/scene/L25/L25_V037.csv\n",
      "Processing: /mnt/d/AI Challenge/Data/video/L25/L25_V038.mp4 (160/169)\n"
     ]
    },
    {
     "name": "stderr",
     "output_type": "stream",
     "text": [
      "  Detected: 88 | Progress: 100%|██████████| 34145/34145 [00:18<00:00, 1838.75frames/s]\n"
     ]
    },
    {
     "name": "stdout",
     "output_type": "stream",
     "text": [
      "Saved: /mnt/d/AI Challenge/Data/scene/L25/L25_V038.csv\n",
      "Processing: /mnt/d/AI Challenge/Data/video/L25/L25_V039.mp4 (161/169)\n"
     ]
    },
    {
     "name": "stderr",
     "output_type": "stream",
     "text": [
      "  Detected: 139 | Progress: 100%|██████████| 45947/45947 [00:24<00:00, 1898.14frames/s]\n"
     ]
    },
    {
     "name": "stdout",
     "output_type": "stream",
     "text": [
      "Saved: /mnt/d/AI Challenge/Data/scene/L25/L25_V039.csv\n",
      "Processing: /mnt/d/AI Challenge/Data/video/L25/L25_V040.mp4 (162/169)\n"
     ]
    },
    {
     "name": "stderr",
     "output_type": "stream",
     "text": [
      "  Detected: 137 | Progress: 100%|██████████| 34871/34871 [00:22<00:00, 1566.18frames/s]\n"
     ]
    },
    {
     "name": "stdout",
     "output_type": "stream",
     "text": [
      "Saved: /mnt/d/AI Challenge/Data/scene/L25/L25_V040.csv\n",
      "Processing: /mnt/d/AI Challenge/Data/video/L25/L25_V041.mp4 (163/169)\n"
     ]
    },
    {
     "name": "stderr",
     "output_type": "stream",
     "text": [
      "  Detected: 87 | Progress: 100%|██████████| 35707/35707 [00:29<00:00, 1220.55frames/s]\n"
     ]
    },
    {
     "name": "stdout",
     "output_type": "stream",
     "text": [
      "Saved: /mnt/d/AI Challenge/Data/scene/L25/L25_V041.csv\n",
      "Processing: /mnt/d/AI Challenge/Data/video/L25/L25_V042.mp4 (164/169)\n"
     ]
    },
    {
     "name": "stderr",
     "output_type": "stream",
     "text": [
      "  Detected: 108 | Progress: 100%|██████████| 48230/48230 [00:32<00:00, 1492.97frames/s]\n"
     ]
    },
    {
     "name": "stdout",
     "output_type": "stream",
     "text": [
      "Saved: /mnt/d/AI Challenge/Data/scene/L25/L25_V042.csv\n",
      "Processing: /mnt/d/AI Challenge/Data/video/L25/L25_V043.mp4 (165/169)\n"
     ]
    },
    {
     "name": "stderr",
     "output_type": "stream",
     "text": [
      "  Detected: 104 | Progress: 100%|██████████| 50807/50807 [00:34<00:00, 1476.09frames/s]\n"
     ]
    },
    {
     "name": "stdout",
     "output_type": "stream",
     "text": [
      "Saved: /mnt/d/AI Challenge/Data/scene/L25/L25_V043.csv\n",
      "Processing: /mnt/d/AI Challenge/Data/video/L25/L25_V044.mp4 (166/169)\n"
     ]
    },
    {
     "name": "stderr",
     "output_type": "stream",
     "text": [
      "  Detected: 88 | Progress: 100%|██████████| 30320/30320 [00:17<00:00, 1756.33frames/s]\n"
     ]
    },
    {
     "name": "stdout",
     "output_type": "stream",
     "text": [
      "Saved: /mnt/d/AI Challenge/Data/scene/L25/L25_V044.csv\n",
      "Processing: /mnt/d/AI Challenge/Data/video/L25/L25_V045.mp4 (167/169)\n"
     ]
    },
    {
     "name": "stderr",
     "output_type": "stream",
     "text": [
      "  Detected: 106 | Progress: 100%|██████████| 34531/34531 [00:22<00:00, 1536.57frames/s]\n"
     ]
    },
    {
     "name": "stdout",
     "output_type": "stream",
     "text": [
      "Saved: /mnt/d/AI Challenge/Data/scene/L25/L25_V045.csv\n",
      "Processing: /mnt/d/AI Challenge/Data/video/L25/L25_V046.mp4 (168/169)\n"
     ]
    },
    {
     "name": "stderr",
     "output_type": "stream",
     "text": [
      "  Detected: 119 | Progress: 100%|██████████| 25161/25161 [00:18<00:00, 1360.28frames/s]\n"
     ]
    },
    {
     "name": "stdout",
     "output_type": "stream",
     "text": [
      "Saved: /mnt/d/AI Challenge/Data/scene/L25/L25_V046.csv\n",
      "Processing: /mnt/d/AI Challenge/Data/video/L25/L25_V047.mp4 (169/169)\n"
     ]
    },
    {
     "name": "stderr",
     "output_type": "stream",
     "text": [
      "  Detected: 86 | Progress: 100%|██████████| 33146/33146 [00:20<00:00, 1579.08frames/s]"
     ]
    },
    {
     "name": "stdout",
     "output_type": "stream",
     "text": [
      "Saved: /mnt/d/AI Challenge/Data/scene/L25/L25_V047.csv\n"
     ]
    },
    {
     "name": "stderr",
     "output_type": "stream",
     "text": [
      "\n"
     ]
    }
   ],
   "source": [
    "import os\n",
    "import pandas as pd\n",
    "from scenedetect import detect, AdaptiveDetector\n",
    "from tqdm import tqdm\n",
    "\n",
    "for i, video_path in enumerate(video_list, 0):\n",
    "    print(f\"Processing: {video_path} ({i+1}/{len(video_list)})\")\n",
    "    name = os.path.splitext(os.path.basename(video_path))[0]\n",
    "    batchh = name.split(\"_\")[0]\n",
    "    out_path = os.path.join(SCENE_DIR, batchh, name + \".csv\")\n",
    "\n",
    "    if os.path.exists(out_path):\n",
    "        print(f\"Already processed: {out_path}\")\n",
    "        continue\n",
    "\n",
    "    try:\n",
    "        scene_list = detect(video_path, AdaptiveDetector(), show_progress=True)\n",
    "\n",
    "        df = pd.DataFrame(\n",
    "            [\n",
    "                {\n",
    "                    \"start_frame\": start.get_frames(),\n",
    "                    \"start_time\": round(start.get_seconds(), 2),\n",
    "                    \"end_frame\": end.get_frames(),\n",
    "                    \"end_time\": round(end.get_seconds(), 2),\n",
    "                    \"median_frame\": (start.get_frames() + end.get_frames()) // 2,\n",
    "                    \"median_time\": round((start.get_seconds() + end.get_seconds()) / 2, 2),\n",
    "                }\n",
    "                for start, end in scene_list\n",
    "            ],\n",
    "            columns=[\"start_frame\", \"start_time\", \"end_frame\", \"end_time\", \"median_frame\", \"median_time\"]\n",
    "        )\n",
    "\n",
    "        os.makedirs(os.path.dirname(out_path), exist_ok=True)\n",
    "        df.to_csv(out_path, index=False)\n",
    "        # print(f\"Saved: {out_path}\")\n",
    "    except Exception as e:\n",
    "        print(f\"Error processing {video_path}: {e}\")\n"
   ]
  }
 ],
 "metadata": {
  "kernelspec": {
   "display_name": ".venv (3.12.2)",
   "language": "python",
   "name": "python3"
  },
  "language_info": {
   "codemirror_mode": {
    "name": "ipython",
    "version": 3
   },
   "file_extension": ".py",
   "mimetype": "text/x-python",
   "name": "python",
   "nbconvert_exporter": "python",
   "pygments_lexer": "ipython3",
   "version": "3.12.2"
  }
 },
 "nbformat": 4,
 "nbformat_minor": 5
}
