{
 "cells": [
  {
   "cell_type": "code",
   "execution_count": null,
   "id": "e6764bfb",
   "metadata": {},
   "outputs": [],
   "source": [
    "import numpy as np\n",
    "import pandas as pd\n",
    "from tqdm import tqdm\n",
    "import os\n",
    "import glob\n",
    "import json\n",
    "from scenedetect import detect, AdaptiveDetector, split_video_ffmpeg\n",
    "from concurrent.futures import ThreadPoolExecutor, as_completed\n",
    "from config import DOWNLOAD_DIR, SCENE_DIR"
   ]
  },
  {
   "cell_type": "code",
   "execution_count": null,
   "id": "87cb0a00",
   "metadata": {},
   "outputs": [
    {
     "data": {
      "text/plain": [
       "169"
      ]
     },
     "execution_count": 2,
     "metadata": {},
     "output_type": "execute_result"
    }
   ],
   "source": [
    "os.makedirs(SCENE_DIR, exist_ok=True)\n",
    "video_list = glob.glob(os.path.join(DOWNLOAD_DIR, '*/*.mp4'))\n",
    "len(video_list)\n",
    "\n",
    "# video_list = video_list[:10]  # Limit to first 10 videos for testing"
   ]
  },
  {
   "cell_type": "code",
   "execution_count": null,
   "id": "c4f38a65",
   "metadata": {},
   "outputs": [
    {
     "name": "stdout",
     "output_type": "stream",
     "text": [
      "Processing: /mnt/d/AI Challenge/Data/video/L21/L21_V001.mp4 (1/169)\n",
      "Already processed: /mnt/d/AI Challenge/Data/scene/L21/L21_V001.csv\n",
      "Processing: /mnt/d/AI Challenge/Data/video/L21/L21_V002.mp4 (2/169)\n",
      "Already processed: /mnt/d/AI Challenge/Data/scene/L21/L21_V002.csv\n",
      "Processing: /mnt/d/AI Challenge/Data/video/L21/L21_V003.mp4 (3/169)\n",
      "Already processed: /mnt/d/AI Challenge/Data/scene/L21/L21_V003.csv\n",
      "Processing: /mnt/d/AI Challenge/Data/video/L21/L21_V005.mp4 (4/169)\n",
      "Already processed: /mnt/d/AI Challenge/Data/scene/L21/L21_V005.csv\n",
      "Processing: /mnt/d/AI Challenge/Data/video/L21/L21_V006.mp4 (5/169)\n",
      "Already processed: /mnt/d/AI Challenge/Data/scene/L21/L21_V006.csv\n",
      "Processing: /mnt/d/AI Challenge/Data/video/L21/L21_V007.mp4 (6/169)\n",
      "Already processed: /mnt/d/AI Challenge/Data/scene/L21/L21_V007.csv\n",
      "Processing: /mnt/d/AI Challenge/Data/video/L21/L21_V008.mp4 (7/169)\n",
      "Already processed: /mnt/d/AI Challenge/Data/scene/L21/L21_V008.csv\n",
      "Processing: /mnt/d/AI Challenge/Data/video/L21/L21_V009.mp4 (8/169)\n",
      "Already processed: /mnt/d/AI Challenge/Data/scene/L21/L21_V009.csv\n",
      "Processing: /mnt/d/AI Challenge/Data/video/L21/L21_V010.mp4 (9/169)\n",
      "Already processed: /mnt/d/AI Challenge/Data/scene/L21/L21_V010.csv\n",
      "Processing: /mnt/d/AI Challenge/Data/video/L21/L21_V011.mp4 (10/169)\n",
      "Already processed: /mnt/d/AI Challenge/Data/scene/L21/L21_V011.csv\n",
      "Processing: /mnt/d/AI Challenge/Data/video/L21/L21_V012.mp4 (11/169)\n"
     ]
    },
    {
     "name": "stderr",
     "output_type": "stream",
     "text": [
      "  Detected: 0 | Progress:   0%|          | 0/27972 [00:00<?, ?frames/s]"
     ]
    },
    {
     "name": "stderr",
     "output_type": "stream",
     "text": [
      "  Detected: 252 | Progress: 100%|██████████| 27972/27972 [00:16<00:00, 1701.30frames/s]\n"
     ]
    },
    {
     "name": "stdout",
     "output_type": "stream",
     "text": [
      "Saved: /mnt/d/AI Challenge/Data/scene/L21/L21_V012.csv\n",
      "Processing: /mnt/d/AI Challenge/Data/video/L21/L21_V013.mp4 (12/169)\n"
     ]
    },
    {
     "name": "stderr",
     "output_type": "stream",
     "text": [
      "  Detected: 324 | Progress: 100%|██████████| 33805/33805 [00:19<00:00, 1760.02frames/s]\n"
     ]
    },
    {
     "name": "stdout",
     "output_type": "stream",
     "text": [
      "Saved: /mnt/d/AI Challenge/Data/scene/L21/L21_V013.csv\n",
      "Processing: /mnt/d/AI Challenge/Data/video/L21/L21_V014.mp4 (13/169)\n"
     ]
    },
    {
     "name": "stderr",
     "output_type": "stream",
     "text": [
      "  Detected: 316 | Progress: 100%|██████████| 33511/33511 [00:20<00:00, 1618.56frames/s]\n"
     ]
    },
    {
     "name": "stdout",
     "output_type": "stream",
     "text": [
      "Saved: /mnt/d/AI Challenge/Data/scene/L21/L21_V014.csv\n",
      "Processing: /mnt/d/AI Challenge/Data/video/L21/L21_V015.mp4 (14/169)\n"
     ]
    },
    {
     "name": "stderr",
     "output_type": "stream",
     "text": [
      "  Detected: 393 | Progress: 100%|██████████| 39117/39117 [00:29<00:00, 1346.08frames/s]\n"
     ]
    },
    {
     "name": "stdout",
     "output_type": "stream",
     "text": [
      "Saved: /mnt/d/AI Challenge/Data/scene/L21/L21_V015.csv\n",
      "Processing: /mnt/d/AI Challenge/Data/video/L21/L21_V016.mp4 (15/169)\n"
     ]
    },
    {
     "name": "stderr",
     "output_type": "stream",
     "text": [
      "  Detected: 303 | Progress: 100%|██████████| 31633/31633 [00:21<00:00, 1444.73frames/s]\n"
     ]
    },
    {
     "name": "stdout",
     "output_type": "stream",
     "text": [
      "Saved: /mnt/d/AI Challenge/Data/scene/L21/L21_V016.csv\n",
      "Processing: /mnt/d/AI Challenge/Data/video/L21/L21_V017.mp4 (16/169)\n"
     ]
    },
    {
     "name": "stderr",
     "output_type": "stream",
     "text": [
      "  Detected: 227 | Progress: 100%|██████████| 23751/23751 [00:14<00:00, 1596.43frames/s]\n"
     ]
    },
    {
     "name": "stdout",
     "output_type": "stream",
     "text": [
      "Saved: /mnt/d/AI Challenge/Data/scene/L21/L21_V017.csv\n",
      "Processing: /mnt/d/AI Challenge/Data/video/L21/L21_V018.mp4 (17/169)\n"
     ]
    },
    {
     "name": "stderr",
     "output_type": "stream",
     "text": [
      "  Detected: 353 | Progress: 100%|██████████| 28599/28599 [00:19<00:00, 1448.82frames/s]\n"
     ]
    },
    {
     "name": "stdout",
     "output_type": "stream",
     "text": [
      "Saved: /mnt/d/AI Challenge/Data/scene/L21/L21_V018.csv\n",
      "Processing: /mnt/d/AI Challenge/Data/video/L21/L21_V019.mp4 (18/169)\n"
     ]
    },
    {
     "name": "stderr",
     "output_type": "stream",
     "text": [
      "  Detected: 255 | Progress: 100%|██████████| 33027/33027 [00:22<00:00, 1475.92frames/s]\n"
     ]
    },
    {
     "name": "stdout",
     "output_type": "stream",
     "text": [
      "Saved: /mnt/d/AI Challenge/Data/scene/L21/L21_V019.csv\n",
      "Processing: /mnt/d/AI Challenge/Data/video/L21/L21_V021.mp4 (19/169)\n"
     ]
    },
    {
     "name": "stderr",
     "output_type": "stream",
     "text": [
      "  Detected: 252 | Progress: 100%|██████████| 30906/30906 [00:19<00:00, 1580.17frames/s]\n"
     ]
    },
    {
     "name": "stdout",
     "output_type": "stream",
     "text": [
      "Saved: /mnt/d/AI Challenge/Data/scene/L21/L21_V021.csv\n",
      "Processing: /mnt/d/AI Challenge/Data/video/L21/L21_V022.mp4 (20/169)\n"
     ]
    },
    {
     "name": "stderr",
     "output_type": "stream",
     "text": [
      "  Detected: 203 | Progress: 100%|██████████| 27719/27719 [00:15<00:00, 1812.13frames/s]\n"
     ]
    },
    {
     "name": "stdout",
     "output_type": "stream",
     "text": [
      "Saved: /mnt/d/AI Challenge/Data/scene/L21/L21_V022.csv\n",
      "Processing: /mnt/d/AI Challenge/Data/video/L21/L21_V023.mp4 (21/169)\n"
     ]
    },
    {
     "name": "stderr",
     "output_type": "stream",
     "text": [
      "  Detected: 309 | Progress: 100%|██████████| 35391/35391 [00:22<00:00, 1576.61frames/s]\n"
     ]
    },
    {
     "name": "stdout",
     "output_type": "stream",
     "text": [
      "Saved: /mnt/d/AI Challenge/Data/scene/L21/L21_V023.csv\n",
      "Processing: /mnt/d/AI Challenge/Data/video/L21/L21_V024.mp4 (22/169)\n"
     ]
    },
    {
     "name": "stderr",
     "output_type": "stream",
     "text": [
      "  Detected: 330 | Progress: 100%|██████████| 30045/30045 [00:18<00:00, 1598.20frames/s]\n"
     ]
    },
    {
     "name": "stdout",
     "output_type": "stream",
     "text": [
      "Saved: /mnt/d/AI Challenge/Data/scene/L21/L21_V024.csv\n",
      "Processing: /mnt/d/AI Challenge/Data/video/L21/L21_V025.mp4 (23/169)\n"
     ]
    },
    {
     "name": "stderr",
     "output_type": "stream",
     "text": [
      "  Detected: 309 | Progress: 100%|██████████| 29495/29495 [00:16<00:00, 1756.73frames/s]\n"
     ]
    },
    {
     "name": "stdout",
     "output_type": "stream",
     "text": [
      "Saved: /mnt/d/AI Challenge/Data/scene/L21/L21_V025.csv\n",
      "Processing: /mnt/d/AI Challenge/Data/video/L21/L21_V026.mp4 (24/169)\n"
     ]
    },
    {
     "name": "stderr",
     "output_type": "stream",
     "text": [
      "  Detected: 362 | Progress: 100%|██████████| 34546/34546 [00:21<00:00, 1609.75frames/s]\n"
     ]
    },
    {
     "name": "stdout",
     "output_type": "stream",
     "text": [
      "Saved: /mnt/d/AI Challenge/Data/scene/L21/L21_V026.csv\n",
      "Processing: /mnt/d/AI Challenge/Data/video/L21/L21_V027.mp4 (25/169)\n"
     ]
    },
    {
     "name": "stderr",
     "output_type": "stream",
     "text": [
      "  Detected: 328 | Progress: 100%|██████████| 34804/34804 [00:17<00:00, 2002.43frames/s]\n"
     ]
    },
    {
     "name": "stdout",
     "output_type": "stream",
     "text": [
      "Saved: /mnt/d/AI Challenge/Data/scene/L21/L21_V027.csv\n",
      "Processing: /mnt/d/AI Challenge/Data/video/L21/L21_V028.mp4 (26/169)\n"
     ]
    },
    {
     "name": "stderr",
     "output_type": "stream",
     "text": [
      "  Detected: 258 | Progress: 100%|██████████| 30576/30576 [00:17<00:00, 1790.04frames/s]\n"
     ]
    },
    {
     "name": "stdout",
     "output_type": "stream",
     "text": [
      "Saved: /mnt/d/AI Challenge/Data/scene/L21/L21_V028.csv\n",
      "Processing: /mnt/d/AI Challenge/Data/video/L21/L21_V029.mp4 (27/169)\n"
     ]
    },
    {
     "name": "stderr",
     "output_type": "stream",
     "text": [
      "  Detected: 298 | Progress: 100%|██████████| 34689/34689 [00:18<00:00, 1911.38frames/s]\n"
     ]
    },
    {
     "name": "stdout",
     "output_type": "stream",
     "text": [
      "Saved: /mnt/d/AI Challenge/Data/scene/L21/L21_V029.csv\n",
      "Processing: /mnt/d/AI Challenge/Data/video/L21/L21_V030.mp4 (28/169)\n"
     ]
    },
    {
     "name": "stderr",
     "output_type": "stream",
     "text": [
      "  Detected: 286 | Progress: 100%|██████████| 31801/31801 [00:22<00:00, 1429.06frames/s]\n"
     ]
    },
    {
     "name": "stdout",
     "output_type": "stream",
     "text": [
      "Saved: /mnt/d/AI Challenge/Data/scene/L21/L21_V030.csv\n",
      "Processing: /mnt/d/AI Challenge/Data/video/L21/L21_V031.mp4 (29/169)\n"
     ]
    },
    {
     "name": "stderr",
     "output_type": "stream",
     "text": [
      "  Detected: 323 | Progress: 100%|██████████| 27528/27528 [00:15<00:00, 1724.37frames/s]\n"
     ]
    },
    {
     "name": "stdout",
     "output_type": "stream",
     "text": [
      "Saved: /mnt/d/AI Challenge/Data/scene/L21/L21_V031.csv\n",
      "Processing: /mnt/d/AI Challenge/Data/video/L22/L22_V001.mp4 (30/169)\n"
     ]
    },
    {
     "name": "stderr",
     "output_type": "stream",
     "text": [
      "  Detected: 389 | Progress: 100%|██████████| 34901/34901 [00:20<00:00, 1695.84frames/s]\n"
     ]
    },
    {
     "name": "stdout",
     "output_type": "stream",
     "text": [
      "Saved: /mnt/d/AI Challenge/Data/scene/L22/L22_V001.csv\n",
      "Processing: /mnt/d/AI Challenge/Data/video/L22/L22_V002.mp4 (31/169)\n"
     ]
    },
    {
     "name": "stderr",
     "output_type": "stream",
     "text": [
      "  Detected: 306 | Progress: 100%|██████████| 29681/29681 [00:21<00:00, 1400.65frames/s]\n"
     ]
    },
    {
     "name": "stdout",
     "output_type": "stream",
     "text": [
      "Saved: /mnt/d/AI Challenge/Data/scene/L22/L22_V002.csv\n",
      "Processing: /mnt/d/AI Challenge/Data/video/L22/L22_V003.mp4 (32/169)\n"
     ]
    },
    {
     "name": "stderr",
     "output_type": "stream",
     "text": [
      "  Detected: 355 | Progress: 100%|██████████| 30626/30626 [00:18<00:00, 1626.24frames/s]\n"
     ]
    },
    {
     "name": "stdout",
     "output_type": "stream",
     "text": [
      "Saved: /mnt/d/AI Challenge/Data/scene/L22/L22_V003.csv\n",
      "Processing: /mnt/d/AI Challenge/Data/video/L22/L22_V004.mp4 (33/169)\n"
     ]
    },
    {
     "name": "stderr",
     "output_type": "stream",
     "text": [
      "  Detected: 422 | Progress: 100%|██████████| 39128/39128 [00:26<00:00, 1504.62frames/s]\n"
     ]
    },
    {
     "name": "stdout",
     "output_type": "stream",
     "text": [
      "Saved: /mnt/d/AI Challenge/Data/scene/L22/L22_V004.csv\n",
      "Processing: /mnt/d/AI Challenge/Data/video/L22/L22_V005.mp4 (34/169)\n"
     ]
    },
    {
     "name": "stderr",
     "output_type": "stream",
     "text": [
      "  Detected: 275 | Progress: 100%|██████████| 31218/31218 [00:26<00:00, 1160.82frames/s]\n"
     ]
    },
    {
     "name": "stdout",
     "output_type": "stream",
     "text": [
      "Saved: /mnt/d/AI Challenge/Data/scene/L22/L22_V005.csv\n",
      "Processing: /mnt/d/AI Challenge/Data/video/L22/L22_V006.mp4 (35/169)\n"
     ]
    },
    {
     "name": "stderr",
     "output_type": "stream",
     "text": [
      "  Detected: 383 | Progress: 100%|██████████| 38606/38606 [00:28<00:00, 1374.50frames/s]\n"
     ]
    },
    {
     "name": "stdout",
     "output_type": "stream",
     "text": [
      "Saved: /mnt/d/AI Challenge/Data/scene/L22/L22_V006.csv\n",
      "Processing: /mnt/d/AI Challenge/Data/video/L22/L22_V007.mp4 (36/169)\n"
     ]
    },
    {
     "name": "stderr",
     "output_type": "stream",
     "text": [
      "  Detected: 361 | Progress: 100%|██████████| 30032/30032 [00:18<00:00, 1587.59frames/s]\n"
     ]
    },
    {
     "name": "stdout",
     "output_type": "stream",
     "text": [
      "Saved: /mnt/d/AI Challenge/Data/scene/L22/L22_V007.csv\n",
      "Processing: /mnt/d/AI Challenge/Data/video/L22/L22_V008.mp4 (37/169)\n"
     ]
    },
    {
     "name": "stderr",
     "output_type": "stream",
     "text": [
      "  Detected: 301 | Progress: 100%|██████████| 27393/27393 [00:20<00:00, 1307.21frames/s]\n"
     ]
    },
    {
     "name": "stdout",
     "output_type": "stream",
     "text": [
      "Saved: /mnt/d/AI Challenge/Data/scene/L22/L22_V008.csv\n",
      "Processing: /mnt/d/AI Challenge/Data/video/L22/L22_V009.mp4 (38/169)\n"
     ]
    },
    {
     "name": "stderr",
     "output_type": "stream",
     "text": [
      "  Detected: 262 | Progress: 100%|██████████| 26927/26927 [00:15<00:00, 1748.11frames/s]\n"
     ]
    },
    {
     "name": "stdout",
     "output_type": "stream",
     "text": [
      "Saved: /mnt/d/AI Challenge/Data/scene/L22/L22_V009.csv\n",
      "Processing: /mnt/d/AI Challenge/Data/video/L22/L22_V010.mp4 (39/169)\n"
     ]
    },
    {
     "name": "stderr",
     "output_type": "stream",
     "text": [
      "  Detected: 329 | Progress: 100%|██████████| 27276/27276 [00:19<00:00, 1382.63frames/s]\n"
     ]
    },
    {
     "name": "stdout",
     "output_type": "stream",
     "text": [
      "Saved: /mnt/d/AI Challenge/Data/scene/L22/L22_V010.csv\n",
      "Processing: /mnt/d/AI Challenge/Data/video/L22/L22_V011.mp4 (40/169)\n"
     ]
    },
    {
     "name": "stderr",
     "output_type": "stream",
     "text": [
      "  Detected: 324 | Progress: 100%|██████████| 32881/32881 [00:21<00:00, 1533.08frames/s]\n"
     ]
    },
    {
     "name": "stdout",
     "output_type": "stream",
     "text": [
      "Saved: /mnt/d/AI Challenge/Data/scene/L22/L22_V011.csv\n",
      "Processing: /mnt/d/AI Challenge/Data/video/L22/L22_V012.mp4 (41/169)\n"
     ]
    },
    {
     "name": "stderr",
     "output_type": "stream",
     "text": [
      "  Detected: 356 | Progress: 100%|██████████| 36143/36143 [00:25<00:00, 1412.04frames/s]\n"
     ]
    },
    {
     "name": "stdout",
     "output_type": "stream",
     "text": [
      "Saved: /mnt/d/AI Challenge/Data/scene/L22/L22_V012.csv\n",
      "Processing: /mnt/d/AI Challenge/Data/video/L22/L22_V013.mp4 (42/169)\n"
     ]
    },
    {
     "name": "stderr",
     "output_type": "stream",
     "text": [
      "  Detected: 390 | Progress: 100%|██████████| 38015/38015 [00:24<00:00, 1553.05frames/s]\n"
     ]
    },
    {
     "name": "stdout",
     "output_type": "stream",
     "text": [
      "Saved: /mnt/d/AI Challenge/Data/scene/L22/L22_V013.csv\n",
      "Processing: /mnt/d/AI Challenge/Data/video/L22/L22_V014.mp4 (43/169)\n"
     ]
    },
    {
     "name": "stderr",
     "output_type": "stream",
     "text": [
      "  Detected: 304 | Progress: 100%|██████████| 34157/34157 [00:24<00:00, 1381.34frames/s]\n"
     ]
    },
    {
     "name": "stdout",
     "output_type": "stream",
     "text": [
      "Saved: /mnt/d/AI Challenge/Data/scene/L22/L22_V014.csv\n",
      "Processing: /mnt/d/AI Challenge/Data/video/L22/L22_V015.mp4 (44/169)\n"
     ]
    },
    {
     "name": "stderr",
     "output_type": "stream",
     "text": [
      "  Detected: 357 | Progress: 100%|██████████| 39244/39244 [00:23<00:00, 1693.29frames/s]\n"
     ]
    },
    {
     "name": "stdout",
     "output_type": "stream",
     "text": [
      "Saved: /mnt/d/AI Challenge/Data/scene/L22/L22_V015.csv\n",
      "Processing: /mnt/d/AI Challenge/Data/video/L22/L22_V016.mp4 (45/169)\n"
     ]
    },
    {
     "name": "stderr",
     "output_type": "stream",
     "text": [
      "  Detected: 443 | Progress: 100%|██████████| 35920/35920 [00:25<00:00, 1434.91frames/s]\n"
     ]
    },
    {
     "name": "stdout",
     "output_type": "stream",
     "text": [
      "Saved: /mnt/d/AI Challenge/Data/scene/L22/L22_V016.csv\n",
      "Processing: /mnt/d/AI Challenge/Data/video/L22/L22_V017.mp4 (46/169)\n"
     ]
    },
    {
     "name": "stderr",
     "output_type": "stream",
     "text": [
      "  Detected: 292 | Progress: 100%|██████████| 27579/27579 [00:19<00:00, 1397.25frames/s]\n"
     ]
    },
    {
     "name": "stdout",
     "output_type": "stream",
     "text": [
      "Saved: /mnt/d/AI Challenge/Data/scene/L22/L22_V017.csv\n",
      "Processing: /mnt/d/AI Challenge/Data/video/L22/L22_V018.mp4 (47/169)\n"
     ]
    },
    {
     "name": "stderr",
     "output_type": "stream",
     "text": [
      "  Detected: 387 | Progress: 100%|██████████| 41309/41309 [00:25<00:00, 1641.80frames/s]\n"
     ]
    },
    {
     "name": "stdout",
     "output_type": "stream",
     "text": [
      "Saved: /mnt/d/AI Challenge/Data/scene/L22/L22_V018.csv\n",
      "Processing: /mnt/d/AI Challenge/Data/video/L22/L22_V019.mp4 (48/169)\n"
     ]
    },
    {
     "name": "stderr",
     "output_type": "stream",
     "text": [
      "  Detected: 317 | Progress: 100%|██████████| 31019/31019 [00:19<00:00, 1622.05frames/s]\n"
     ]
    },
    {
     "name": "stdout",
     "output_type": "stream",
     "text": [
      "Saved: /mnt/d/AI Challenge/Data/scene/L22/L22_V019.csv\n",
      "Processing: /mnt/d/AI Challenge/Data/video/L22/L22_V020.mp4 (49/169)\n"
     ]
    },
    {
     "name": "stderr",
     "output_type": "stream",
     "text": [
      "  Detected: 347 | Progress: 100%|██████████| 38981/38981 [00:24<00:00, 1575.93frames/s]\n"
     ]
    },
    {
     "name": "stdout",
     "output_type": "stream",
     "text": [
      "Saved: /mnt/d/AI Challenge/Data/scene/L22/L22_V020.csv\n",
      "Processing: /mnt/d/AI Challenge/Data/video/L22/L22_V021.mp4 (50/169)\n"
     ]
    },
    {
     "name": "stderr",
     "output_type": "stream",
     "text": [
      "  Detected: 369 | Progress: 100%|██████████| 38124/38124 [00:23<00:00, 1607.56frames/s]\n"
     ]
    },
    {
     "name": "stdout",
     "output_type": "stream",
     "text": [
      "Saved: /mnt/d/AI Challenge/Data/scene/L22/L22_V021.csv\n",
      "Processing: /mnt/d/AI Challenge/Data/video/L22/L22_V022.mp4 (51/169)\n"
     ]
    },
    {
     "name": "stderr",
     "output_type": "stream",
     "text": [
      "  Detected: 336 | Progress: 100%|██████████| 34149/34149 [00:22<00:00, 1495.36frames/s]\n"
     ]
    },
    {
     "name": "stdout",
     "output_type": "stream",
     "text": [
      "Saved: /mnt/d/AI Challenge/Data/scene/L22/L22_V022.csv\n",
      "Processing: /mnt/d/AI Challenge/Data/video/L22/L22_V023.mp4 (52/169)\n"
     ]
    },
    {
     "name": "stderr",
     "output_type": "stream",
     "text": [
      "  Detected: 302 | Progress: 100%|██████████| 31066/31066 [00:21<00:00, 1424.34frames/s]\n"
     ]
    },
    {
     "name": "stdout",
     "output_type": "stream",
     "text": [
      "Saved: /mnt/d/AI Challenge/Data/scene/L22/L22_V023.csv\n",
      "Processing: /mnt/d/AI Challenge/Data/video/L22/L22_V024.mp4 (53/169)\n"
     ]
    },
    {
     "name": "stderr",
     "output_type": "stream",
     "text": [
      "  Detected: 204 | Progress:  54%|█████▍    | 17154/31705 [00:12<00:10, 1450.43frames/s]"
     ]
    }
   ],
   "source": [
    "import os\n",
    "import pandas as pd\n",
    "from scenedetect import detect, AdaptiveDetector\n",
    "from tqdm import tqdm\n",
    "\n",
    "for i, video_path in enumerate(video_list, 0):\n",
    "    print(f\"Processing: {video_path} ({i+1}/{len(video_list)})\")\n",
    "    name = os.path.splitext(os.path.basename(video_path))[0]\n",
    "    batchh = name.split(\"_\")[0]\n",
    "    out_path = os.path.join(SCENE_DIR, batchh, name + \".csv\")\n",
    "\n",
    "    if os.path.exists(out_path):\n",
    "        print(f\"Already processed: {out_path}\")\n",
    "        continue\n",
    "\n",
    "    try:\n",
    "        scene_list = detect(video_path, AdaptiveDetector(), show_progress=True)\n",
    "\n",
    "        df = pd.DataFrame(\n",
    "            [\n",
    "                {\n",
    "                    \"start_frame\": start.get_frames(),\n",
    "                    \"start_time\": round(start.get_seconds(), 2),\n",
    "                    \"end_frame\": end.get_frames(),\n",
    "                    \"end_time\": round(end.get_seconds(), 2),\n",
    "                    \"median_frame\": (start.get_frames() + end.get_frames()) // 2,\n",
    "                    \"median_time\": round((start.get_seconds() + end.get_seconds()) / 2, 2),\n",
    "                }\n",
    "                for start, end in scene_list\n",
    "            ],\n",
    "            columns=[\"start_frame\", \"start_time\", \"end_frame\", \"end_time\", \"median_frame\", \"median_time\"]\n",
    "        )\n",
    "\n",
    "        os.makedirs(os.path.dirname(out_path), exist_ok=True)\n",
    "        df.to_csv(out_path, index=False)\n",
    "        # print(f\"Saved: {out_path}\")\n",
    "    except Exception as e:\n",
    "        print(f\"Error processing {video_path}: {e}\")\n"
   ]
  }
 ],
 "metadata": {
  "kernelspec": {
   "display_name": ".venv (3.12.2)",
   "language": "python",
   "name": "python3"
  },
  "language_info": {
   "codemirror_mode": {
    "name": "ipython",
    "version": 3
   },
   "file_extension": ".py",
   "mimetype": "text/x-python",
   "name": "python",
   "nbconvert_exporter": "python",
   "pygments_lexer": "ipython3",
   "version": "3.12.2"
  }
 },
 "nbformat": 4,
 "nbformat_minor": 5
}
